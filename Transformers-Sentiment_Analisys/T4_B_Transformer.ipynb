{
  "cells": [
    {
      "attachments": {},
      "cell_type": "markdown",
      "metadata": {
        "id": "eFsVOn9G5XfP"
      },
      "source": [
        "# **Task \\#4 B**: Machine Learning MC886/MO444\n",
        "##**Natural Language Processing (NLP)**##"
      ]
    },
    {
      "cell_type": "code",
      "execution_count": null,
      "metadata": {
        "colab": {
          "base_uri": "https://localhost:8080/"
        },
        "id": "-MKu4K425uHV",
        "outputId": "011c77b2-6af3-47ad-ec62-035c328dd190"
      },
      "outputs": [
        {
          "name": "stdout",
          "output_type": "stream",
          "text": [
            "Tobias Conran Zorzetto 166214\n",
            "Victor Costa Dominguite 245003\n"
          ]
        }
      ],
      "source": [
        "print('Tobias Conran Zorzetto' + ' 166214')\n",
        "print('Victor Costa Dominguite' + ' 245003')"
      ]
    },
    {
      "attachments": {},
      "cell_type": "markdown",
      "metadata": {
        "id": "69z8ovd45wMN"
      },
      "source": [
        "## Objective:\n",
        "\n",
        "There are two main objectives of this notebook: you can either fine-tunning a BERT model to sentiment analysis or fine-tunning a T5 model to perform translation English to Portuguese.\n",
        "\n",
        "**You can choose which task to perform. The BERT activity is relatively easy and should take less time compared to the T5 task. However, fine-tuning these models require time. Therefore, it is recommended to test the models on a small dataset (such as one batch), to ensure the functions are working correctly. Once confirmed, you can proceed to train the models on the entire dataset.**\n",
        "\n",
        "**If you complete both tasks, you will earn extra points.**\n",
        "**Obs: In this work, you can use scikit-learn, PyTorch and HuggingFace API.**"
      ]
    },
    {
      "attachments": {},
      "cell_type": "markdown",
      "metadata": {
        "id": "t03BZpP_cG6I"
      },
      "source": [
        "## **Sentiment Analisys**\n",
        "\n",
        "Sentiment analysis is a task in natural language processing that involves determining the sentiment expressed in a given text, classifying it as positive, negative, or neutral. It helps analyze people's opinions and emotions from text data, enabling businesses to understand customer feedback, monitor brand reputation, and make informed decisions.\n",
        "\n",
        "In this notebook, we will use the IMDB Dataset, which is widely used in the field of natural language processing and sentiment analysis. It comprises a large collection of movie reviews from the IMDB website, with each review labeled as either positive or negative based on the sentiment expressed in the text.\n",
        "\n",
        "![bert_model](https://drive.google.com/uc?export=view&id=1rWKk7K5-0MX8EkjPeRZTaG7byFQuD6Cx)\n",
        "\n",
        "BERT (Bidirectional Encoder Representations from Transformers) is a state-of-the-art deep learning model for natural language processing (NLP). It is based on the Transformer architecture and is pre-trained on a large corpus of text data. BERT is designed to understand the context and meaning of words in a sentence by considering both the left and right context, enabling it to capture intricate language patterns. It has achieved remarkable results across various NLP tasks, including text classification, named entity recognition, question answering, and has significantly advanced the field of NLP."
      ]
    },
    {
      "cell_type": "code",
      "execution_count": null,
      "metadata": {
        "colab": {
          "base_uri": "https://localhost:8080/"
        },
        "id": "ImyuV0n0SWSd",
        "outputId": "99f595aa-0114-4342-a87c-ba61ce859213"
      },
      "outputs": [
        {
          "name": "stdout",
          "output_type": "stream",
          "text": [
            "Mounted at /content/drive\n"
          ]
        }
      ],
      "source": [
        "from google.colab import drive\n",
        "drive.mount('/content/drive')"
      ]
    },
    {
      "attachments": {},
      "cell_type": "markdown",
      "metadata": {
        "id": "AyxqPdWsz5wk"
      },
      "source": [
        "### Download Dependencies"
      ]
    },
    {
      "cell_type": "code",
      "execution_count": null,
      "metadata": {
        "colab": {
          "base_uri": "https://localhost:8080/"
        },
        "id": "0yzUSCtEcXkI",
        "outputId": "79477c30-8087-4ab7-fdad-930498d0b6cb"
      },
      "outputs": [
        {
          "name": "stdout",
          "output_type": "stream",
          "text": [
            "\u001b[2K     \u001b[90m━━━━━━━━━━━━━━━━━━━━━━━━━━━━━━━━━━━━━━━━\u001b[0m \u001b[32m7.2/7.2 MB\u001b[0m \u001b[31m55.4 MB/s\u001b[0m eta \u001b[36m0:00:00\u001b[0m\n",
            "\u001b[2K     \u001b[90m━━━━━━━━━━━━━━━━━━━━━━━━━━━━━━━━━━━━━━\u001b[0m \u001b[32m236.8/236.8 kB\u001b[0m \u001b[31m25.2 MB/s\u001b[0m eta \u001b[36m0:00:00\u001b[0m\n",
            "\u001b[2K     \u001b[90m━━━━━━━━━━━━━━━━━━━━━━━━━━━━━━━━━━━━━━━━\u001b[0m \u001b[32m7.8/7.8 MB\u001b[0m \u001b[31m107.0 MB/s\u001b[0m eta \u001b[36m0:00:00\u001b[0m\n",
            "\u001b[2K     \u001b[90m━━━━━━━━━━━━━━━━━━━━━━━━━━━━━━━━━━━━━━━━\u001b[0m \u001b[32m1.3/1.3 MB\u001b[0m \u001b[31m81.3 MB/s\u001b[0m eta \u001b[36m0:00:00\u001b[0m\n",
            "\u001b[?25hCPU times: user 167 ms, sys: 24.7 ms, total: 191 ms\n",
            "Wall time: 28.2 s\n"
          ]
        }
      ],
      "source": [
        "%%time\n",
        "!wget -nc -q http://files.fast.ai/data/aclImdb.tgz\n",
        "!tar -xzf aclImdb.tgz\n",
        "!pip install transformers -q"
      ]
    },
    {
      "cell_type": "code",
      "execution_count": null,
      "metadata": {
        "id": "0hLsw2ZbcGYz"
      },
      "outputs": [],
      "source": [
        "import os\n",
        "import copy\n",
        "import torch\n",
        "import random\n",
        "import numpy as np\n",
        "import seaborn as sns\n",
        "\n",
        "from tqdm.notebook import tqdm\n",
        "from torch.utils.data import DataLoader, Dataset\n",
        "from transformers import BertTokenizerFast, BertForSequenceClassification, TrainingArguments, Trainer\n",
        "from torch import nn, optim"
      ]
    },
    {
      "attachments": {},
      "cell_type": "markdown",
      "metadata": {
        "id": "vIncsecQ0Fmw"
      },
      "source": [
        "### Parameters"
      ]
    },
    {
      "cell_type": "code",
      "execution_count": null,
      "metadata": {
        "id": "DuZnVdAZcQsw"
      },
      "outputs": [],
      "source": [
        "params = {\n",
        "    'bert_version': \"google/bert_uncased_L-4_H-256_A-4\",\n",
        "    # There are multiple versions of BERT available at the following links:\n",
        "    # https://huggingface.co/google/bert_uncased_L-12_H-768_A-12\n",
        "    # https://huggingface.co/bert-base-uncased\n",
        "    # You can explore these links to access different versions of BERT.\n",
        "\n",
        "    'batch_size': 32,\n",
        "    'learning_rate': 1e-4, # Choose a learning rate between 1e-4 and 1e-5\n",
        "    'max_length': 300,     # The maximum length of the sentence (can be adjusted)\n",
        "    'epochs': 5,        # Choose a value between 1 and 5 (or alternatively, use early stopping)\n",
        "}"
      ]
    },
    {
      "cell_type": "code",
      "execution_count": null,
      "metadata": {
        "colab": {
          "base_uri": "https://localhost:8080/"
        },
        "id": "Tg63ZvdkcSB4",
        "outputId": "34bee711-3669-4a27-e4a9-fd4c6f907a85"
      },
      "outputs": [
        {
          "name": "stdout",
          "output_type": "stream",
          "text": [
            "Device: cuda:0\n"
          ]
        }
      ],
      "source": [
        "# Important: Fix seeds so we can replicate results\n",
        "random_seed = 42\n",
        "random.seed(random_seed)\n",
        "np.random.seed(random_seed)\n",
        "torch.manual_seed(random_seed)\n",
        "\n",
        "device = torch.device(\"cuda:0\" if torch.cuda.is_available() else \"cpu\")\n",
        "print(f'Device: {device}')"
      ]
    },
    {
      "attachments": {},
      "cell_type": "markdown",
      "metadata": {
        "id": "B97P4u170VEq"
      },
      "source": [
        "### Load data\n",
        "\n",
        "Here we are loading the data. For training, we will use 20k samples, 5k samples for validation, and 25k samples for testing."
      ]
    },
    {
      "cell_type": "code",
      "execution_count": null,
      "metadata": {
        "colab": {
          "base_uri": "https://localhost:8080/"
        },
        "id": "vDneHgkOcjv1",
        "outputId": "3940ae1d-9a76-42d4-d8dc-85fcc11d2a6f"
      },
      "outputs": [
        {
          "name": "stdout",
          "output_type": "stream",
          "text": [
            "\n",
            "First three train samples:\n",
            "0: Input: I have seen Dolemite and also (Avenging) Disco Godfather, two other fine works of the blaxploitation canon from our friend Rudy Ray Moore. But this film, The Human Tornado (aka Dolemite 2) will always hold a special place in my heart. For sheer goofiness, lack of skill in film production, and absolute enthusiasm (frankly a little too much), The Human Tornado cannot be topped.<br /><br />The opening scene sets the tone. Our old pal Dolemite is shacking up with a white woman, when some racist local cops raid the house for no good reason, and wouldn't you know it! The woman in bed with ol' Dole is none other than the sheriff's wife. Her cry when she sees him: \"He made me do it!\" Dolemite's cry: \"&$*@$ are you for real???\" Subtlety was never his strong point.<br /><br />Highlights? The cameo by a very young Ernie Hudson (of Ghostbusters fame), the continuity errors (characters looking one way in one shot, and another in the next, Dolemite's suit changing colors in every single shot of his nightclub act), and Queen Bee's demonic eyes in her first scene.<br /><br />But the real joy here is Rudy Ray Moore himself. Did the man really think he looked cool in this movie? I certainly don't know why, but you have to admire the sheer enthusiasm he has. Whether it be jumping totally naked off a cliff, or barking orders to his gang in rhyme (e.g: Quick! Into the cave! I have a plan to let that mother $*@(%& dig his own grave!) the man commits totally. Certainly he goes overboard, nevermore so than any time he's doing kung fu. The climactic battle is filmed at high speed, but occassionaly slows down to let Rudy pose and grits his teeth. I'm not sure if they wanted it too look like they sped up the film as an effect or if they really wanted us to believe he was that fast. In any event, \"The Matrix\" it is not.<br /><br />Human Tornado, much like the original Dolemite, is an incompetent film of enormous proportions. But at least it's fun, and certainly you have to give credit to these people for the effort. Just not that much. Enjoy with my hearty recommendations.\n",
            "   Target: negative\n",
            "\n",
            "1: Input: Since its release in 1983, \"A Christmas Story\", the Jean Shepherd-narrated story of his alter-ego, Ralphie, has become a true classic. \"My Summer Story\", however, still has Shepherd as the narrator, but it has absolutely none of the charm, and the characters are nowhere near the caliber of the original film.<br /><br />\"My Summer Story\" is basically a mishmash of mediocre and just plain not very interesting stories, which include hillbilly neighbors and battling tops. Charles Grodin, who I normally like, is extremely unlikeable in the role of the father (more aptly handled by Darren McGavin in the original), and his character never seems anything but forced. Kiernan Culkin is a poor substitute for Ralphie, and the little brother is all but forgotten here. Only mom seems to have any worth here and perhaps that's because she beans a cinema manager with a gravy boat when he pushes his luck too far with irate housewives on \"free dish night\".<br /><br />The stories in this are mostly inconsequential and stretched paper-thin. May appeal to the extremely undemanding but as a sequel to \"A Christmas Story\", it's a very poor one and not worth most people's time. 2 out of 10.\n",
            "   Target: negative\n",
            "\n",
            "2: Input: I was blown away by the re-imagined Battlestar Galactica, a show that always kept me guessing and brought me to tears on more than one occasion. A hardened sci-fi fan, I like to think I can pick out the good stuff from the BS, and this was good stuff.<br /><br />As such, when I first heard about the prospect of a prequel series some months ago I got a sick feeling in my gut. I was afraid that the formula that made Battlestar so successful would be reused in Caprica, which wouldn't work at all. BSG's story, of a mournful ragged band of survivors, trapped aboard decaying star ships and guided by prophetic vision and a sequence of pseudo-miracles, was perfectly complimented by extraordinary music and a better cast of actors.<br /><br />Caprica feels different. Where BSG takes place after the fall of a great civilization, Caprica portrays that civilization in it's cold and decadent heyday. The overall vibe I got from Caprica was similar to that of Minority Report, minus excessive and counterproductive theatricality. In true BSG form, Caprica has in it's first few hours of programming already tackled the issues of religious freedom, racism, the morality of playing God and the nature of the human soul.<br /><br />The casting for Caprica is also excellent. Each character is unique and deep, from the obsessive and distant scientist-turned-entrepreneur, to his troubled and willful daughter, each actor and actress throws themselves into their respective roles.<br /><br />Music, which was used so powerfully in BSG, also plays a significant role in Caprica. Battlestar's powerful rolling drums and mournful duduks served it's themes very well. Caprica uses a more orchestral sound, which gives the show it's own feeling quite distinct from either of it's predecessors. <br /><br />The new Caprica is definitely it's own show, pulling from the Battlestar franchise only as much as it needs. I look forward to the full series.\n",
            "   Target: positive\n",
            "\n",
            "--------------------------------------------------------------------------------------------------------------------------------------------------------------------------------------------------------\n",
            "\n",
            "First three valid samples:\n",
            "0: Input: I don't know if this is a sitcom or not, but I agree that this is one of the greatest television shows ever. It's great that this show still airs. And I love Michelle. It's cute on the episodes when she was a baby and she talked, and she sometimes said something funny. Aw.<br /><br />This show can relate to children and teens and.. well, families as they struggle through rough times and try to work it out as a family. I don't know who would ever turn down an opportunity to watch this show with someone. <br /><br />I love the episode when I think her name is DD.. the older girl accidentally stole a sweatshirt, and she learned a lesson about stealing. That was a great episode. An example that this TV show shows the family working things out as a family.<br /><br />I recommend this show for everyone.\n",
            "   Target: positive\n",
            "\n",
            "1: Input: Its not the cast. A finer group of actors, you could not find. Its not the setting. The director is in love with New York City, and by the end of the film, so are we all! Woody Allen could not improve upon what Bogdonovich has done here. If you are going to fall in love, or find love, Manhattan is the place to go. No, the problem with the movie is the script. There is none. The actors fall in love at first sight, words are unnecessary. In the director's own experience in Hollywood that is what happens when they go to work on the set. It is reality to him, and his peers, but it is a fantasy to most of us in the real world. So, in the end, the movie is hollow, and shallow, and message-less.\n",
            "   Target: negative\n",
            "\n",
            "2: Input: I wanted to give Drawing Blood the benefit of the initial doubt. The opening moments, with a naked woman sprawled out and an painter, Diana, about to paint her and then sucking her blood to drain out so she can use it for her art, give the impression that this could be a kick-ass artsy-vampire flick. Turns out this initial impression turns out false. Oh, Troma, the mark of some kind of lack of quality: sometimes they'll offer up something that is trash but funny and with at least some competence to the junk-food craft (or, sometimes not). This is a case where it's not even a whole lot of fun to watch since its attempts at humor (i.e. the protagonist's father is an old vaudevillian who does Jimmy Durante impressions?) are weak at best, and any unintentional laughs are undercut by Sergio Lapel's bargain basement direction.<br /><br />And it's not without him trying, oh Lord no. He does try a lot, which is a big part of the problem. He and his producers had money for lights, sure, but the way they're used in the movie made I, a former student filmmaker and aspiring director, sulking in my seat: if I saw this in a theater I would have to blind my eyes in many instances, and would wonder whether or not his DP understood really the basic 3-point lighting set-up. While this, along with a very lackluster sound design (or just lots of random loud humming like in the art gallery scene), shouldn't be something that comes to attention during a Troma release, it should be something *basic* that a filmmaker can tackle even if the script isn't very funny or scary (and it isn't) or if Lapel does a weird mixture of songs placed at bizarre moments.<br /><br />It's not a good movie by any stretch, and perhaps if you're a vampire die-hard (or just a vampire period) it might have some appeal as a low-rent bargain basement alternative to Near Dark, or as a slight improvement over, say, 1972's Blood Freak. You have better ways to waste your time, overall.\n",
            "   Target: negative\n",
            "\n",
            "--------------------------------------------------------------------------------------------------------------------------------------------------------------------------------------------------------\n",
            "Train size: 20000\n",
            "Valid size: 5000\n",
            "Test size: 25000\n"
          ]
        }
      ],
      "source": [
        "max_valid = 5000\n",
        "\n",
        "def load_texts(folder):\n",
        "    texts = []\n",
        "    for path in os.listdir(folder):\n",
        "        with open(os.path.join(folder, path)) as f:\n",
        "            texts.append(f.read())\n",
        "    return texts\n",
        "\n",
        "x_train_pos = load_texts('aclImdb/train/pos')\n",
        "x_train_neg = load_texts('aclImdb/train/neg')\n",
        "x_test_pos  = load_texts('aclImdb/test/pos')\n",
        "x_test_neg  = load_texts('aclImdb/test/neg')\n",
        "\n",
        "x_train = x_train_pos + x_train_neg\n",
        "x_test  = x_test_pos + x_test_neg\n",
        "y_train = [True] * len(x_train_pos) + [False] * len(x_train_neg)\n",
        "y_test  = [True] * len(x_test_pos)  + [False] * len(x_test_neg)\n",
        "\n",
        "c = list(zip(x_train, y_train))\n",
        "random.shuffle(c)\n",
        "x_train, y_train = zip(*c)\n",
        "\n",
        "x_valid = x_train[-max_valid:]\n",
        "y_valid = y_train[-max_valid:]\n",
        "x_train = x_train[:-max_valid]\n",
        "y_train = y_train[:-max_valid]\n",
        "\n",
        "print('\\nFirst three train samples:')\n",
        "for i, (source, target) in enumerate(zip(x_train[:3], y_train[:3])):\n",
        "  print(f\"{i}: Input: {source}\\n   Target: {'positive' if target else 'negative'}\\n\")\n",
        "\n",
        "print('-'*200)\n",
        "print('\\nFirst three valid samples:')\n",
        "for i, (source, target) in enumerate(zip(x_valid[:3], y_valid[:3])):\n",
        "  print(f\"{i}: Input: {source}\\n   Target: {'positive' if target else 'negative'}\\n\")\n",
        "\n",
        "print('-'*200)\n",
        "print(f'Train size: {len(x_train)}')\n",
        "print(f'Valid size: {len(x_valid)}')\n",
        "print(f'Test size: {len(x_test)}')"
      ]
    },
    {
      "attachments": {},
      "cell_type": "markdown",
      "metadata": {
        "id": "ln1YCiFIKzEd"
      },
      "source": [
        "### Tokenizer\n",
        "\n",
        "To use text as input for a deep learning model, we first need to tokenize each sentence based on a set of rules. After tokenization, each token is assigned a correlated index, creating a feature vector. This vector is then utilized by the model to train and update the weights. Here is an example demonstrating how the BERT tokenizer works:\n",
        "\n",
        "![bert_tokenizer](https://drive.google.com/uc?export=view&id=11LioDFis0JE3ghr672PEIeaAxZO42gUL)\n",
        "\n",
        "Initially, the input sentence is divided into tokens predetermined by the BERT tokenizer. Next, the BertTokenizer introduces two special tokens: CLS and SEP. CLS represents sentence start for tasks like classification, while SEP indicates sentence separation for boundary detection within a document. Additionally, to ensure sentences are of equal length, the tokenizer employ the PAD token for each input.\n",
        "\n",
        "Finally, each token is converted into a predetermined index for BERT input. This indexing enables the Bert model to train and update its weights effectively."
      ]
    },
    {
      "cell_type": "code",
      "execution_count": null,
      "metadata": {
        "id": "JT1M1O2wcnFt"
      },
      "outputs": [],
      "source": [
        "class IMDBDataset(Dataset):\n",
        "    def __init__(self, data, labels):\n",
        "        super().__init__()\n",
        "        self.data   = data\n",
        "        self.labels = torch.Tensor(labels).long()\n",
        "\n",
        "    def __len__(self):\n",
        "        return len(self.labels)\n",
        "\n",
        "    def __getitem__(self, index):\n",
        "        item = {key: value[index] for key, value in self.data.items()}\n",
        "        item['labels'] = self.labels[index]\n",
        "        return item"
      ]
    },
    {
      "cell_type": "code",
      "execution_count": null,
      "metadata": {
        "colab": {
          "base_uri": "https://localhost:8080/",
          "height": 118,
          "referenced_widgets": [
            "47346a9bb3754d82a9e4c3ead25954c6",
            "05200763d15c4149b3867564dcb1715f",
            "d8961373e88148238d349e98aa1f338c",
            "055c11f6273645e3b3f81de6581b0aa1",
            "b5de98c66ec1400b9831552468734694",
            "4b3678bc9cb043ed8886df295d62022f",
            "a1a20f84650142d2aec12c1db1b9b507",
            "5f640d4952ac46c6a7564950f2975c7e",
            "ad6c9c250f074e93819142692ac26992",
            "479549e7b1344d1b9a8ca693870df3f1",
            "147cb70bd8204897b99e34d8861be8a0",
            "0ae7516d649d4848a9435c5f05888dde",
            "132a2d7a09434c8a8b35f246f5ad81c3",
            "a1d31529641045d2b51e782e26123ee0",
            "551375e0962e48b3b5382c71ab0243c8",
            "99edf9d993ea47c5a871f0e4a8f2a183",
            "03c9e94da2ad4bd4851934d0b465c1a8",
            "87d58f2cd0be4c85b782e59677575e88",
            "243cb2cde7684404b174068cc4827a85",
            "f7062ab887fe4634980f7c70344e6121",
            "02642fd8b8e94978ba43c1fcf304ac1e",
            "742d4c727f994bf584638a8bece097c6"
          ]
        },
        "id": "k07NXH79coQr",
        "outputId": "f7101b33-7591-4840-9639-ed939a698849"
      },
      "outputs": [
        {
          "data": {
            "application/vnd.jupyter.widget-view+json": {
              "model_id": "47346a9bb3754d82a9e4c3ead25954c6",
              "version_major": 2,
              "version_minor": 0
            },
            "text/plain": [
              "Downloading (…)solve/main/vocab.txt:   0%|          | 0.00/232k [00:00<?, ?B/s]"
            ]
          },
          "metadata": {},
          "output_type": "display_data"
        },
        {
          "data": {
            "application/vnd.jupyter.widget-view+json": {
              "model_id": "0ae7516d649d4848a9435c5f05888dde",
              "version_major": 2,
              "version_minor": 0
            },
            "text/plain": [
              "Downloading (…)lve/main/config.json:   0%|          | 0.00/383 [00:00<?, ?B/s]"
            ]
          },
          "metadata": {},
          "output_type": "display_data"
        },
        {
          "name": "stdout",
          "output_type": "stream",
          "text": [
            "CPU times: user 1min 15s, sys: 1.12 s, total: 1min 16s\n",
            "Wall time: 51.2 s\n"
          ]
        }
      ],
      "source": [
        "%%time\n",
        "tokenizer = BertTokenizerFast.from_pretrained(params['bert_version'], disable_tqdm=False)\n",
        "\n",
        "## TOKENIZE\n",
        "train_encodings = tokenizer(list(x_train), truncation=True, padding=True, return_tensors='pt', max_length=params['max_length'])\n",
        "valid_encodings = tokenizer(list(x_valid), truncation=True, padding=True, return_tensors='pt', max_length=params['max_length'])\n",
        "test_encodings  = tokenizer(list(x_test),  truncation=True, padding=True, return_tensors='pt', max_length=params['max_length'])\n",
        "\n",
        "## DATASET\n",
        "train_dataset = IMDBDataset(data=train_encodings, labels=y_train)\n",
        "valid_dataset = IMDBDataset(data=valid_encodings, labels=y_valid)\n",
        "test_dataset  = IMDBDataset(data=test_encodings, labels=y_test)\n",
        "\n",
        "## DATALOADER\n",
        "train_loader = DataLoader(dataset=train_dataset, batch_size=params['batch_size'], shuffle=True, num_workers=1)\n",
        "valid_loader = DataLoader(dataset=valid_dataset, batch_size=params['batch_size'], num_workers=1)\n",
        "test_loader  = DataLoader(dataset=test_dataset, batch_size=params['batch_size'], num_workers=1)"
      ]
    },
    {
      "attachments": {},
      "cell_type": "markdown",
      "metadata": {
        "id": "r3oj3uw02BIN"
      },
      "source": [
        "### Useful functions\n",
        "\n",
        "**Note:** The following functions are provided as suggestions. You are free to modify and create your own functions, classes, or code. Feel free to customize!\n",
        "\n",
        "**If the batch does not fit in memory, use gradient accumulation.**\n",
        "\n",
        "**Hint 1:** Example of gradient accumalation in PyTorch: https://kozodoi.me/blog/20210219/gradient-accumulation.\n",
        "\n",
        "**Hint 2:** If preferred, you can utilize the [Trainer](https://huggingface.co/docs/transformers/training) from Hugging Face for assistance."
      ]
    },
    {
      "cell_type": "code",
      "execution_count": null,
      "metadata": {
        "id": "akXPUZIbcrJW"
      },
      "outputs": [],
      "source": [
        "def train(criterion, optimizer):\n",
        "\n",
        "    # batch accumulation parameter\n",
        "    accum_iter = 4\n",
        "    idx = 0\n",
        "    correct_predictions = 0\n",
        "    # loop through enumaretad batches\n",
        "    for batch_idx, loader in enumerate(train_loader):\n",
        "\n",
        "        input_ids = loader[\"input_ids\"].to(device)\n",
        "        attention_mask = loader[\"attention_mask\"].to(device)\n",
        "        labels = loader[\"labels\"].to(device)\n",
        "\n",
        "        outputs = model(\n",
        "          input_ids=input_ids,\n",
        "          attention_mask=attention_mask\n",
        "        )\n",
        "\n",
        "        # passes and weights update\n",
        "        with torch.set_grad_enabled(True):\n",
        "\n",
        "            # forward pass\n",
        "            _, preds = torch.max(outputs.logits, dim=1)\n",
        "            loss  = criterion(outputs.logits, labels)\n",
        "\n",
        "            # normalize loss to account for batch accumulation\n",
        "            loss = loss / accum_iter\n",
        "\n",
        "            # backward pass\n",
        "            loss.backward()\n",
        "\n",
        "            correct_predictions += torch.sum(preds == labels)\n",
        "            idx+=1\n",
        "            if(batch_idx % params['batch_size'] == 0):\n",
        "                print(\"trained\", batch_idx)\n",
        "\n",
        "            # weights update\n",
        "            if ((batch_idx + 1) % accum_iter == 0) or (batch_idx + 1 == len(train_loader)):\n",
        "                optimizer.step()\n",
        "                optimizer.zero_grad()\n",
        "\n",
        "    acc = correct_predictions.double() / (params['batch_size']*idx)\n",
        "\n",
        "    return loss, acc\n",
        "\n",
        "def evaluate(criterion,optimizer):\n",
        "    # batch accumulation parameter\n",
        "  correct_predictions = 0\n",
        "  accum_iter = 4\n",
        "  idx = 0\n",
        "  # loop through enumaretad batches\n",
        "  for batch_idx, loader in enumerate(valid_loader):\n",
        "\n",
        "      # extract inputs and labels\n",
        "      input_ids = loader[\"input_ids\"].to(device)\n",
        "      attention_mask = loader[\"attention_mask\"].to(device)\n",
        "      labels = loader[\"labels\"].to(device)\n",
        "\n",
        "      outputs = model(\n",
        "        input_ids=input_ids,\n",
        "        attention_mask=attention_mask\n",
        "      )\n",
        "\n",
        "      # passes and weights update\n",
        "      with torch.set_grad_enabled(False):\n",
        "\n",
        "          # forward pass\n",
        "          _, preds = torch.max(outputs.logits, dim=1)\n",
        "          loss  = criterion(outputs.logits, labels)\n",
        "\n",
        "          # normalize loss to account for batch accumulation\n",
        "          loss = loss / accum_iter\n",
        "\n",
        "          correct_predictions += torch.sum(preds == labels)\n",
        "          idx+=1\n",
        "\n",
        "  acc = correct_predictions/(params['batch_size']*idx)\n",
        "\n",
        "  print(\"accuracy:\", acc)\n",
        "\n",
        "  return loss, acc"
      ]
    },
    {
      "cell_type": "code",
      "execution_count": null,
      "metadata": {
        "id": "JQt0k0bZ6BQg"
      },
      "outputs": [],
      "source": [
        "class EarlyStopping():\n",
        "  '''\n",
        "    Early stopping prevents overfitting by stopping the training process when\n",
        "    the model's performance on a validation set starts to worsen.\n",
        "\n",
        "    Parameters:\n",
        "    -----------\n",
        "    patience  : int\n",
        "      Tolerance for no improvement.\n",
        "    min_delta : float\n",
        "      Minimum change required.\n",
        "  '''\n",
        "\n",
        "  def __init__(self, patience=1, min_delta=0.0001):\n",
        "    self.patience = patience\n",
        "    self.counter = 0\n",
        "    self.best_score = None\n",
        "    self.best_model_wts = None\n",
        "    self.min_delta = min_delta\n",
        "\n",
        "  def __call__(self, model, val_loss):\n",
        "    score = -val_loss\n",
        "\n",
        "    if self.best_score is None:\n",
        "      self.best_score = score\n",
        "      self.best_model_wts = copy.deepcopy(model.state_dict())\n",
        "      return False\n",
        "\n",
        "    elif score < self.best_score + self.min_delta:\n",
        "      self.counter += 1\n",
        "      if self.counter >= self.patience:\n",
        "        return True\n",
        "    else:\n",
        "      self.best_score = score\n",
        "      self.best_model_wts = copy.deepcopy(model.state_dict())\n",
        "      self.counter = 0\n",
        "    return False"
      ]
    },
    {
      "attachments": {},
      "cell_type": "markdown",
      "metadata": {
        "id": "hPCtzdvX2Ekm"
      },
      "source": [
        "### Train the BERT model\n",
        "\n",
        "**Note:** The following functions are provided as suggestions. You are free to modify and create your own functions, classes, or code. Feel free to customize!\n",
        "\n",
        "**Hint 1:** See the [BertForSequenceClassification](https://huggingface.co/docs/transformers/v4.30.0/en/model_doc/bert#transformers.BertForSequenceClassification) documentation for more information.\n",
        "\n",
        "**Hint 2:** Instead of saving information by epoch, you can save it by step. A step corresponds to a single update of the model's weights based on a mini-batch of data, while an epoch represents a complete pass through the entire training dataset. The number of steps is determined by the batch size and the total number of training examples, whereas the number of epochs is a user-defined hyperparameter.\n",
        "\n",
        "**Hint 3:** BERT adapts very well to classification problems, so in just 3 or 4 epochs, the results are already acceptable (**BERT Base**). If the results are still not good, check the learning rate.\n",
        "\n",
        "**Hint 4:** Conduct small tests, such as using only one batch, to train and verify the functionality of the training and evaluation functions. After confirming their effectiveness, proceed to train the model with all the dataset."
      ]
    },
    {
      "cell_type": "code",
      "execution_count": null,
      "metadata": {
        "colab": {
          "base_uri": "https://localhost:8080/",
          "height": 1000,
          "referenced_widgets": [
            "3ca65b1a2c6542c0a3614ef26bf63924",
            "38f9b8e76b3649a092b02c24f3c554d4",
            "be37cf13ee9345d491de5231cbc8b396",
            "bcb215640b054ccb9081c1e7818b2461",
            "f84513af559a4e55a60a0aea1e70fa3a",
            "0eed74b2178947e0b26301bb7a95f156",
            "4414e93b226246aabc89a75975eb9672",
            "cac3ad8666ab4221be5bfd15e865ab23",
            "7703a50af1514aaab378d2fe68ddeed7",
            "91b5be9f2dfb4b5fab935ad205c326fc",
            "47fffbcbc2b949b6bc6dad53209ba025",
            "0845073db8a5414aa94c91af7b047c3c",
            "74943b0c8756498bbff4ecb562ec4f13",
            "c2cebc15f21e42adbf04dca8831622d2",
            "d4a86e5f30144964a68c19baa725d6a2",
            "7e7a2ac8b01b4be2b38bf4d6708b0426",
            "fcf516c1472f4aa3bf197c5a2ba20f11",
            "b8908fa08b8b4eadac7be250f1daac7e",
            "8ad1d955982143768634dd19f10b369c",
            "b6bc85c146a24f40aa941e73e82416e5",
            "a0524c4fcf0c4e819dbdebcfc2415d18",
            "11f308427e944e33a5043b534e573a7c"
          ]
        },
        "id": "hK94bdgRcsR0",
        "outputId": "21a23695-b0a0-4170-f3ad-93091cb80f50"
      },
      "outputs": [
        {
          "data": {
            "application/vnd.jupyter.widget-view+json": {
              "model_id": "3ca65b1a2c6542c0a3614ef26bf63924",
              "version_major": 2,
              "version_minor": 0
            },
            "text/plain": [
              "Downloading pytorch_model.bin:   0%|          | 0.00/45.1M [00:00<?, ?B/s]"
            ]
          },
          "metadata": {},
          "output_type": "display_data"
        },
        {
          "name": "stderr",
          "output_type": "stream",
          "text": [
            "Some weights of the model checkpoint at google/bert_uncased_L-4_H-256_A-4 were not used when initializing BertForSequenceClassification: ['cls.seq_relationship.weight', 'cls.predictions.transform.LayerNorm.weight', 'cls.predictions.bias', 'cls.predictions.transform.LayerNorm.bias', 'cls.seq_relationship.bias', 'cls.predictions.transform.dense.bias', 'cls.predictions.decoder.weight', 'cls.predictions.decoder.bias', 'cls.predictions.transform.dense.weight']\n",
            "- This IS expected if you are initializing BertForSequenceClassification from the checkpoint of a model trained on another task or with another architecture (e.g. initializing a BertForSequenceClassification model from a BertForPreTraining model).\n",
            "- This IS NOT expected if you are initializing BertForSequenceClassification from the checkpoint of a model that you expect to be exactly identical (initializing a BertForSequenceClassification model from a BertForSequenceClassification model).\n",
            "Some weights of BertForSequenceClassification were not initialized from the model checkpoint at google/bert_uncased_L-4_H-256_A-4 and are newly initialized: ['classifier.weight', 'classifier.bias']\n",
            "You should probably TRAIN this model on a down-stream task to be able to use it for predictions and inference.\n"
          ]
        },
        {
          "data": {
            "application/vnd.jupyter.widget-view+json": {
              "model_id": "0845073db8a5414aa94c91af7b047c3c",
              "version_major": 2,
              "version_minor": 0
            },
            "text/plain": [
              "Training:   0%|          | 0/5 [00:00<?, ?it/s]"
            ]
          },
          "metadata": {},
          "output_type": "display_data"
        },
        {
          "name": "stdout",
          "output_type": "stream",
          "text": [
            "trained 0\n",
            "trained 64\n",
            "trained 128\n",
            "trained 192\n",
            "trained 256\n",
            "trained 320\n",
            "trained 384\n",
            "trained 448\n",
            "trained 512\n",
            "trained 576\n",
            "accuracy: tensor(0.8424, device='cuda:0')\n",
            "trained 0\n",
            "trained 64\n",
            "trained 128\n",
            "trained 192\n",
            "trained 256\n",
            "trained 320\n",
            "trained 384\n",
            "trained 448\n",
            "trained 512\n",
            "trained 576\n",
            "accuracy: tensor(0.8678, device='cuda:0')\n",
            "trained 0\n",
            "trained 64\n",
            "trained 128\n",
            "trained 192\n",
            "trained 256\n",
            "trained 320\n",
            "trained 384\n",
            "trained 448\n",
            "trained 512\n",
            "trained 576\n",
            "accuracy: tensor(0.8700, device='cuda:0')\n",
            "trained 0\n",
            "trained 64\n",
            "trained 128\n",
            "trained 192\n",
            "trained 256\n",
            "trained 320\n",
            "trained 384\n",
            "trained 448\n",
            "trained 512\n",
            "trained 576\n",
            "accuracy: tensor(0.8726, device='cuda:0')\n",
            "trained 0\n",
            "trained 64\n",
            "trained 128\n",
            "trained 192\n",
            "trained 256\n",
            "trained 320\n",
            "trained 384\n",
            "trained 448\n",
            "trained 512\n",
            "trained 576\n",
            "accuracy: tensor(0.8668, device='cuda:0')\n"
          ]
        }
      ],
      "source": [
        "model = BertForSequenceClassification.from_pretrained(params['bert_version'])\n",
        "model = model.to(device)\n",
        "\n",
        "criterion = nn.CrossEntropyLoss().to(device)\n",
        "optimizer = optim.Adam(model.parameters(), lr=2e-5)\n",
        "#scheduler = None # https://pytorch.org/docs/stable/optim.html (not mandatory)\n",
        "\n",
        "early_stopping = EarlyStopping()\n",
        "\n",
        "history = {'train_loss': [], 'valid_loss': [], 'train_acc':[], 'valid_acc':[]}\n",
        "\n",
        "for epoch in tqdm(range(params['epochs']), desc='Training'):\n",
        "  train_loss, train_acc = train(criterion,optimizer)\n",
        "  valid_loss, valid_acc = evaluate(criterion, optimizer)\n",
        "\n",
        "  history['train_loss'].append(train_loss)\n",
        "  history['train_acc'].append(train_acc)\n",
        "\n",
        "  history['valid_loss'].append(valid_loss)\n",
        "  history['valid_acc'].append(valid_acc)\n",
        "\n",
        "  if early_stopping(model, valid_loss): break"
      ]
    },
    {
      "attachments": {},
      "cell_type": "markdown",
      "metadata": {
        "id": "LRNTdBQu5KBG"
      },
      "source": [
        "### Evaluation of the model"
      ]
    },
    {
      "cell_type": "code",
      "execution_count": null,
      "metadata": {
        "colab": {
          "base_uri": "https://localhost:8080/"
        },
        "id": "QIFWp4f3SHvn",
        "outputId": "c58808ff-2876-4389-bb5e-7bcbae3ca4fd"
      },
      "outputs": [
        {
          "name": "stdout",
          "output_type": "stream",
          "text": [
            "{'train_loss': [tensor(0.1503, device='cuda:0', grad_fn=<DivBackward0>), tensor(0.0716, device='cuda:0', grad_fn=<DivBackward0>), tensor(0.0301, device='cuda:0', grad_fn=<DivBackward0>), tensor(0.0359, device='cuda:0', grad_fn=<DivBackward0>), tensor(0.0258, device='cuda:0', grad_fn=<DivBackward0>)], 'valid_loss': [tensor(0.1041, device='cuda:0'), tensor(0.0594, device='cuda:0'), tensor(0.0434, device='cuda:0'), tensor(0.0301, device='cuda:0'), tensor(0.0132, device='cuda:0')], 'train_acc': [tensor(0.7758, device='cuda:0', dtype=torch.float64), tensor(0.8754, device='cuda:0', dtype=torch.float64), tensor(0.9101, device='cuda:0', dtype=torch.float64), tensor(0.9373, device='cuda:0', dtype=torch.float64), tensor(0.9630, device='cuda:0', dtype=torch.float64)], 'valid_acc': [tensor(0.8424, device='cuda:0'), tensor(0.8678, device='cuda:0'), tensor(0.8700, device='cuda:0'), tensor(0.8726, device='cuda:0'), tensor(0.8668, device='cuda:0')]}\n"
          ]
        }
      ],
      "source": [
        "## Save Best Model Weights and history\n",
        "path = 'drive/MyDrive'\n",
        "\n",
        "\n",
        "torch.save(early_stopping.best_model_wts, f'{path}/weights_bert.pth')\n",
        "\n",
        "\n",
        "train_loss_cpu = []\n",
        "valid_loss_cpu = []\n",
        "train_acc_cpu = []\n",
        "valid_acc_cpu = []\n",
        "\n",
        "for data in history['train_loss']:\n",
        "  train_loss_cpu.append(data.data.cpu())\n",
        "for data in history['valid_loss']:\n",
        "  valid_loss_cpu.append(data.data.cpu())\n",
        "for data in history['train_acc']:\n",
        "  train_acc_cpu.append(data.data.cpu())\n",
        "for data in history['valid_acc']:\n",
        "  valid_acc_cpu.append(data.data.cpu())\n",
        "\n",
        "print(history)\n",
        "\n",
        "np.save(f'{path}/train_loss_bert', np.array(train_loss_cpu))\n",
        "np.save(f'{path}/valid_loss_bert', np.array(valid_loss_cpu))\n",
        "\n",
        "np.save(f'{path}/train_acc_bert', np.array(train_acc_cpu))\n",
        "np.save(f'{path}/valid_acc_bert', np.array(valid_acc_cpu))"
      ]
    },
    {
      "cell_type": "code",
      "execution_count": null,
      "metadata": {
        "id": "CFqxSdPmSnrb"
      },
      "outputs": [],
      "source": [
        "## Load\n",
        "train_loss = np.load(f'{path}/train_loss_bert.npy')\n",
        "train_acc  = np.load(f'{path}/train_acc_bert.npy')\n",
        "\n",
        "valid_loss = np.load(f'{path}/valid_loss_bert.npy')\n",
        "valid_acc  = np.load(f'{path}/valid_acc_bert.npy')"
      ]
    },
    {
      "attachments": {},
      "cell_type": "markdown",
      "metadata": {
        "id": "31m0wtaT5NaD"
      },
      "source": [
        "#### Plot the Train and Valid loss"
      ]
    },
    {
      "cell_type": "code",
      "execution_count": null,
      "metadata": {
        "colab": {
          "base_uri": "https://localhost:8080/",
          "height": 642
        },
        "id": "t15IZRbBctC9",
        "outputId": "07ec00d4-255f-4679-ad65-bae2e0a1e5ca"
      },
      "outputs": [
        {
          "data": {
            "image/png": "[encoded data removed]",
            "text/plain": [
              "<Figure size 2000x700 with 4 Axes>"
            ]
          },
          "metadata": {},
          "output_type": "display_data"
        }
      ],
      "source": [
        "\n",
        "def plot(history):\n",
        "\n",
        "\n",
        "  train_loss_cpu = []\n",
        "  valid_loss_cpu = []\n",
        "  train_acc_cpu = []\n",
        "  valid_acc_cpu = []\n",
        "\n",
        "  for data in history['train_loss']:\n",
        "    train_loss_cpu.append(data.data.cpu())\n",
        "  for data in history['valid_loss']:\n",
        "    valid_loss_cpu.append(data.data.cpu())\n",
        "  for data in history['train_acc']:\n",
        "    train_acc_cpu.append(data.data.cpu())\n",
        "  for data in history['valid_acc']:\n",
        "    valid_acc_cpu.append(data.data.cpu())\n",
        "\n",
        "  fig, ax = plt.subplots(1, 4, figsize=(20,7))\n",
        "\n",
        "  ax[0].plot(train_loss_cpu, label='Train loss')\n",
        "  ax[1].plot(valid_loss_cpu, label='Valid loss')\n",
        "  ax[2].plot(train_acc_cpu, label='Train Accuracy')\n",
        "  ax[3].plot(valid_acc_cpu, label='Valid accuracy')\n",
        "\n",
        "\n",
        "  ax[0].set_xlabel('Epochs')\n",
        "  ax[0].set_ylabel('Loss')\n",
        "  ax[0].set_title('Erro durante as épocas')\n",
        "  ax[0].legend()\n",
        "  ax[0].grid()\n",
        "\n",
        "  ax[1].set_xlabel('Epochs')\n",
        "  ax[1].set_ylabel('Loss')\n",
        "  ax[1].set_title('Erro durante as épocas')\n",
        "  ax[1].legend()\n",
        "  ax[1].grid()\n",
        "\n",
        "  ax[2].set_xlabel('Epochs')\n",
        "  ax[2].set_ylabel('Accuracy')\n",
        "  ax[2].set_title('Acurácia durante as épocas')\n",
        "  ax[2].legend()\n",
        "  ax[2].grid()\n",
        "\n",
        "  ax[3].set_xlabel('Epochs')\n",
        "  ax[3].set_ylabel('Accuracy')\n",
        "  ax[3].set_title('Acurácia durante as épocas')\n",
        "  ax[3].legend()\n",
        "  ax[3].grid()\n",
        "\n",
        "\n",
        "  plt.show()\n",
        "\n",
        "plot(history)"
      ]
    },
    {
      "cell_type": "code",
      "execution_count": null,
      "metadata": {
        "id": "6-e_KZBphHNp"
      },
      "outputs": [],
      "source": [
        "def prediction(criterion,optimizer):\n",
        "    # batch accumulation parameter\n",
        "  correct_predictions = 0\n",
        "  accum_iter = 4\n",
        "  idx = 0\n",
        "\n",
        "  predictions = []\n",
        "  targets = []\n",
        "\n",
        "  # loop through enumaretad batches\n",
        "  for batch_idx, loader in enumerate(test_loader):\n",
        "\n",
        "      # extract inputs and labels\n",
        "      input_ids = loader[\"input_ids\"].to(device)\n",
        "      attention_mask = loader[\"attention_mask\"].to(device)\n",
        "      labels = loader[\"labels\"].to(device)\n",
        "\n",
        "      outputs = model(\n",
        "        input_ids=input_ids,\n",
        "        attention_mask=attention_mask\n",
        "      )\n",
        "\n",
        "      # passes and weights update\n",
        "      with torch.set_grad_enabled(False):\n",
        "\n",
        "          # forward pass\n",
        "          _, preds = torch.max(outputs.logits, dim=1)\n",
        "          loss  = criterion(outputs.logits, labels)\n",
        "\n",
        "          # normalize loss to account for batch accumulation\n",
        "          loss = loss / accum_iter\n",
        "\n",
        "          correct_predictions += torch.sum(preds == labels)\n",
        "          predictions.append(preds)\n",
        "          targets.append(labels)\n",
        "          idx+=1\n",
        "\n",
        "  acc = correct_predictions/(params['batch_size']*idx)\n",
        "\n",
        "  return loss, acc, predictions, targets"
      ]
    },
    {
      "attachments": {},
      "cell_type": "markdown",
      "metadata": {
        "id": "o-JTZche5Rms"
      },
      "source": [
        "#### Evaluate in Test set"
      ]
    },
    {
      "cell_type": "code",
      "execution_count": null,
      "metadata": {
        "colab": {
          "base_uri": "https://localhost:8080/"
        },
        "id": "2DMZycFJfDNW",
        "outputId": "033e0613-6561-43e7-a48f-bbbc936753c9"
      },
      "outputs": [
        {
          "name": "stderr",
          "output_type": "stream",
          "text": [
            "Some weights of the model checkpoint at google/bert_uncased_L-4_H-256_A-4 were not used when initializing BertForSequenceClassification: ['cls.seq_relationship.weight', 'cls.predictions.transform.LayerNorm.weight', 'cls.predictions.bias', 'cls.predictions.transform.LayerNorm.bias', 'cls.seq_relationship.bias', 'cls.predictions.transform.dense.bias', 'cls.predictions.decoder.weight', 'cls.predictions.decoder.bias', 'cls.predictions.transform.dense.weight']\n",
            "- This IS expected if you are initializing BertForSequenceClassification from the checkpoint of a model trained on another task or with another architecture (e.g. initializing a BertForSequenceClassification model from a BertForPreTraining model).\n",
            "- This IS NOT expected if you are initializing BertForSequenceClassification from the checkpoint of a model that you expect to be exactly identical (initializing a BertForSequenceClassification model from a BertForSequenceClassification model).\n",
            "Some weights of BertForSequenceClassification were not initialized from the model checkpoint at google/bert_uncased_L-4_H-256_A-4 and are newly initialized: ['classifier.weight', 'classifier.bias']\n",
            "You should probably TRAIN this model on a down-stream task to be able to use it for predictions and inference.\n"
          ]
        }
      ],
      "source": [
        "## --- Insert code here --- ##\n",
        "model = BertForSequenceClassification.from_pretrained(params['bert_version'])\n",
        "model.load_state_dict(early_stopping.best_model_wts)\n",
        "model.to(device)\n",
        "\n",
        "loss, acc, preds, targets = prediction(criterion,optimizer)\n",
        "\n",
        "\n"
      ]
    },
    {
      "cell_type": "code",
      "execution_count": null,
      "metadata": {
        "colab": {
          "base_uri": "https://localhost:8080/",
          "height": 496
        },
        "id": "FEe_VU74jzn2",
        "outputId": "88a79132-e764-4a46-cda0-de03e105f816"
      },
      "outputs": [
        {
          "name": "stdout",
          "output_type": "stream",
          "text": [
            "tensor(0.8728, device='cuda:0')\n"
          ]
        },
        {
          "data": {
            "image/png": "[encoded data removed]",
            "text/plain": [
              "<Figure size 640x480 with 2 Axes>"
            ]
          },
          "metadata": {},
          "output_type": "display_data"
        }
      ],
      "source": [
        "import pandas as pd\n",
        "import matplotlib.pyplot as plt\n",
        "\n",
        "\n",
        "def show_confusion_matrix(confusion_matrix):\n",
        "  hmap = sns.heatmap(confusion_matrix, annot=True, fmt=\"d\", cmap=\"Blues\")\n",
        "  hmap.yaxis.set_ticklabels(hmap.yaxis.get_ticklabels(), rotation=0, ha='right')\n",
        "  hmap.xaxis.set_ticklabels(hmap.xaxis.get_ticklabels(), rotation=30, ha='right')\n",
        "  plt.ylabel('True sentiment')\n",
        "  plt.xlabel('Predicted sentiment')\n",
        "\n",
        "preds_general = []\n",
        "targets_general = []\n",
        "\n",
        "for data in preds:\n",
        "  for pred in data.data.cpu():\n",
        "    preds_general.append(pred)\n",
        "\n",
        "for data in targets:\n",
        "  for target in data.data.cpu():\n",
        "    targets_general.append(target)\n",
        "\n",
        "class_names = ['negative', 'positive']\n",
        "\n",
        "cm = confusion_matrix(targets_general, preds_general)\n",
        "df_cm = pd.DataFrame(cm, index=class_names, columns=class_names)\n",
        "show_confusion_matrix(df_cm)\n",
        "\n",
        "print(acc)"
      ]
    },
    {
      "attachments": {},
      "cell_type": "markdown",
      "metadata": {
        "id": "XjLynj25LS_4"
      },
      "source": [
        "> What is your conclusions?"
      ]
    },
    {
      "attachments": {},
      "cell_type": "markdown",
      "metadata": {
        "id": "g8HFV9PnHbhU"
      },
      "source": [
        "Ao longo do procedimento treinamento, foram feitas tentativas de usos de diversos modelos pré-treinados do BERT. Porém, modelos mais complexos acabavam por esgotar os recursos computacionais disponíveis. Assim, optou-se pelo uso de uma versão mais simplificada. Mesmo utilizando esse modelo mais simples pré-treinado do BERT e com uma quantidade não tão grande de dados, foi possível atingir uma acurácia consideravelmente boa de 87% no conjunto de teste.\n",
        "\n",
        "Analisando a matriz de confusão acima, observa-se que o modelo treinado apresenta um melhor desempenho para classificar sentimentos positivos, enquanto o maior número de erros está na predição de falsos positivos. Ou seja, os erros do modelo estão mais caracterizados pela classificação de textos negativos como positivos. Isso pode ocorrer, por exemplo, devido a particularidades dos textos do conjunto de treino extraído do dataset.\n",
        "\n",
        "De maneira geral, dada a simplicidade do modelo treinado, pode-se considerar que os resultados apresentados são satisfatórios, especialmente se compararmos o desempenho apresentado com o de um modelo aleatório. Nesse caso, em que há uma classificação binária de sentimento, a acurácia esperada de um modelo aleatório seria de 50%, enquanto o treinamento realizado conseguiu levar a acurácia para 87%. Muito provavelmente seria possível melhorar esse desempenho modificando alguns parâmetros de treinamento, como a versão do BERT utilizada, aumentando épocas ou o número de dados utilizados, porém, para os fins dessa atividade, os resultados obtidos foram suficientes para o aprendizado, além de o modelo ainda apresentar um bom desempenho. Com isso, foi possível exercitar os procedimentos e a pipeline de treinamento de um modelo de transformer."
      ]
    },
    {
      "attachments": {},
      "cell_type": "markdown",
      "metadata": {
        "id": "8-mHVDxqWb-4"
      },
      "source": [
        "## **Translation task**\n",
        "\n",
        "In Natural Language Processing (NLP), translation tasks involve converting text from one language to another. The Paracrawl dataset, a valuable resource for translation research, consists of parallel text data gathered from various websites, enabling the development and training of translation models.\n",
        "\n",
        "\n",
        "The T5 (Text-To-Text Transfer Transformer) deep learning model is a versatile language model that excels at various NLP tasks. It operates on the principle of transforming input text into output text, making it a powerful tool for tasks such as text summarization, translation, question answering, and more. T5 achieves this flexibility by formulating different tasks as text generation problems, which enables it to be fine-tuned on specific tasks while leveraging its pre-trained knowledge.\n",
        "\n",
        "![t5_model](https://drive.google.com/uc?export=view&id=1h8tTSHIwkTon5j2WkBZBr7j731mWtL4O)\n",
        "\n",
        "**Original paper:** *RAFFEL, Colin et al. Exploring the limits of transfer learning with a unified text-to-text transformer. The Journal of Machine Learning Research, v. 21, n. 1, p. 5485-5551, 2020.*\n"
      ]
    },
    {
      "cell_type": "code",
      "execution_count": null,
      "metadata": {
        "colab": {
          "base_uri": "https://localhost:8080/"
        },
        "id": "JdgmveRw6q_Y",
        "outputId": "d7b26515-596e-4560-bb63-7914160fb8b4"
      },
      "outputs": [
        {
          "name": "stdout",
          "output_type": "stream",
          "text": [
            "Mounted at /content/drive\n"
          ]
        }
      ],
      "source": [
        "from google.colab import drive\n",
        "drive.mount('/content/drive')"
      ]
    },
    {
      "cell_type": "code",
      "execution_count": null,
      "metadata": {
        "colab": {
          "base_uri": "https://localhost:8080/"
        },
        "id": "0hki9Ls8Yctv",
        "outputId": "0ee388b1-ab0c-4b53-808c-101d80c1c59c"
      },
      "outputs": [
        {
          "name": "stdout",
          "output_type": "stream",
          "text": [
            "\u001b[2K     \u001b[90m━━━━━━━━━━━━━━━━━━━━━━━━━━━━━━━━━━━━━━━━\u001b[0m \u001b[32m7.2/7.2 MB\u001b[0m \u001b[31m107.1 MB/s\u001b[0m eta \u001b[36m0:00:00\u001b[0m\n",
            "\u001b[2K     \u001b[90m━━━━━━━━━━━━━━━━━━━━━━━━━━━━━━━━━━━━━━━━\u001b[0m \u001b[32m1.3/1.3 MB\u001b[0m \u001b[31m71.9 MB/s\u001b[0m eta \u001b[36m0:00:00\u001b[0m\n",
            "\u001b[2K     \u001b[90m━━━━━━━━━━━━━━━━━━━━━━━━━━━━━━━━━━━━━━\u001b[0m \u001b[32m519.2/519.2 kB\u001b[0m \u001b[31m59.6 MB/s\u001b[0m eta \u001b[36m0:00:00\u001b[0m\n",
            "\u001b[2K     \u001b[90m━━━━━━━━━━━━━━━━━━━━━━━━━━━━━━━━━━━━━━\u001b[0m \u001b[32m236.8/236.8 kB\u001b[0m \u001b[31m31.5 MB/s\u001b[0m eta \u001b[36m0:00:00\u001b[0m\n",
            "\u001b[2K     \u001b[90m━━━━━━━━━━━━━━━━━━━━━━━━━━━━━━━━━━━━━━━━\u001b[0m \u001b[32m7.8/7.8 MB\u001b[0m \u001b[31m129.6 MB/s\u001b[0m eta \u001b[36m0:00:00\u001b[0m\n",
            "\u001b[2K     \u001b[90m━━━━━━━━━━━━━━━━━━━━━━━━━━━━━━━━━━━━━━━━\u001b[0m \u001b[32m1.3/1.3 MB\u001b[0m \u001b[31m96.6 MB/s\u001b[0m eta \u001b[36m0:00:00\u001b[0m\n",
            "\u001b[?25hCPU times: user 81 ms, sys: 8.34 ms, total: 89.3 ms\n",
            "Wall time: 12.6 s\n"
          ]
        }
      ],
      "source": [
        "%%time\n",
        "!pip install transformers sentencepiece torchmetrics -q"
      ]
    },
    {
      "attachments": {},
      "cell_type": "markdown",
      "metadata": {
        "id": "dXSOUKXIYKNF"
      },
      "source": [
        "### Imports and global variables"
      ]
    },
    {
      "cell_type": "code",
      "execution_count": null,
      "metadata": {
        "id": "mtdRQ4dmWfM1"
      },
      "outputs": [],
      "source": [
        "import re\n",
        "import copy\n",
        "import gzip\n",
        "import torch\n",
        "import random\n",
        "import numpy as np\n",
        "import pandas as pd\n",
        "import matplotlib.pyplot as plt\n",
        "\n",
        "from tqdm.notebook import tqdm\n",
        "from torch.utils.data import Dataset, DataLoader\n",
        "from torch.optim.lr_scheduler import ReduceLROnPlateau\n",
        "from transformers import T5Tokenizer, T5ForConditionalGeneration\n",
        "\n",
        "from typing import Dict\n",
        "from typing import List\n",
        "from typing import Tuple"
      ]
    },
    {
      "cell_type": "code",
      "execution_count": null,
      "metadata": {
        "colab": {
          "base_uri": "https://localhost:8080/"
        },
        "id": "H6bRqmuMYcH-",
        "outputId": "7d3e5587-377a-4147-e4bc-7a18b637eba1"
      },
      "outputs": [
        {
          "name": "stdout",
          "output_type": "stream",
          "text": [
            "Device: cuda:0\n"
          ]
        }
      ],
      "source": [
        "# Important: Fix seeds so we can replicate results\n",
        "random_seed = 42\n",
        "random.seed(random_seed)\n",
        "np.random.seed(random_seed)\n",
        "torch.manual_seed(random_seed)\n",
        "\n",
        "device = torch.device(\"cuda:0\" if torch.cuda.is_available() else \"cpu\")\n",
        "print(f'Device: {device}')"
      ]
    },
    {
      "attachments": {},
      "cell_type": "markdown",
      "metadata": {
        "id": "mseEi6_uRA7z"
      },
      "source": [
        "### Parameters"
      ]
    },
    {
      "cell_type": "code",
      "execution_count": null,
      "metadata": {
        "id": "DHHyaCTnZF3F"
      },
      "outputs": [],
      "source": [
        "params = {\n",
        "    'model_name': 'unicamp-dl/ptt5-small-portuguese-vocab',\n",
        "    'batch_size': 64,\n",
        "    'accumulate_grad_batches': 4,\n",
        "    'source_max_length': 128, # Maximum number of tokens in the source sentence (you can select a different value)\n",
        "    'target_max_length': 128, # Maximum number of tokens in the target sentence (you can select a different value)\n",
        "    'learning_rate': 1e-3,\n",
        "    'evaluate_interval': 500  # Intervals at which we will evaluate the model (in steps)\n",
        "}"
      ]
    },
    {
      "attachments": {},
      "cell_type": "markdown",
      "metadata": {
        "id": "8O9ZWpr6Yyh8"
      },
      "source": [
        "### Load data\n",
        "\n",
        "Here we are loading the data. Notice that the label no longer consists of a class index, but instead, it comprises a complete sentence. In the modified Paracrawl dataset, the input sentence is in English, while the output sentence is in Portuguese.\n",
        "\n",
        "For training, we will use 99k samples, 10k samples for validation, and 20k samples for testing.\n",
        "\n",
        "**Note:** If you are experiencing issues with GPU allocation, you can reduce the number of training samples. Otherwise, it is advisable to utilize the entire dataset."
      ]
    },
    {
      "attachments": {},
      "cell_type": "markdown",
      "metadata": {
        "id": "6fKttv5hNbRu"
      },
      "source": [
        "LINK TO THE [DATASET](https://drive.google.com/drive/folders/1tUwgkpcLXAsZizXUKfJeN5ZH75rEj3Js?usp=sharing)"
      ]
    },
    {
      "cell_type": "code",
      "execution_count": null,
      "metadata": {
        "colab": {
          "base_uri": "https://localhost:8080/"
        },
        "id": "7uAzxLy7Yz80",
        "outputId": "9c724ddf-0866-4c9c-d68a-4d92018c30e3"
      },
      "outputs": [
        {
          "name": "stdout",
          "output_type": "stream",
          "text": [
            "\n",
            "First three train samples:\n",
            "0: source: The ECOWAS Member states are as follows:\n",
            "   target: Os Estados-membros da CEDEAO são:\n",
            "\n",
            "1: source: May our Movement, which the Spirit of Christ has aroused and brought about in obedience and in peace, fraternally inspire the whole of Christian society, so that in all the places where the faith is proclaimed there may be found traces of Mary’s holiness (“In you is mercy, in you pity, in you munificence, in you is found whatever of goodness is in any creature”).\n",
            "   target: Nosso movimento, que o Espírito de Cristo despertou e realizou dentro da obediência e da paz, inspire fraternalmente toda a sociedade cristã, de modo a que em todos os lugares onde a fé for proclamada possam ser encontrados vestígios da santidade de Nossa Senhora (“Em ti, misericórdia, em ti, piedade,/ em ti magnificência, em ti se coaduna/ todo o bem que existe nas criaturas”).\n",
            "\n",
            "2: source: Lying 11 km from Żelazowa Wola there is Brochów with its imposing brick parish church where Chopin’s parents were married and his birth certificate is also on display.\n",
            "   target: A somente 11 km de ¯elazowa Wola ficaBrochówcom sua imponente igreja paroquial, onde os pais de Chopin se casaram e sua certidao de nascimento está em exibiçao.\n",
            "\n",
            "--------------------------------------------------------------------------------------------------------------------------------------------------------------------------------------------------------\n",
            "\n",
            "First three valid samples:\n",
            "0: source: Definition English: Health services for employees, usually provided by the employer at the place of work.\n",
            "   target: Definição Português: Serviços de saúde para as pessoas inseridas no mercado de trabalho, geralmente oferecidos pelo empregador no próprio local de trabalho.\n",
            "\n",
            "1: source: Probably the men who received payment also gave at least part of their money to pay for their food or they bought it themselves.\n",
            "   target: É provável também que os homens que eram remunerados davam ao menos parte de seu dinheiro para pagar sua alimentação, ou iam eles mesmos comprá-la.\n",
            "\n",
            "2: source: “The Vivo Network Digital Inclusion program is totally aligned with Vivo’s mission, which is “to create conditions for people to relate more and more to each other, anytime anyplace, and to be able to live in a more human, safe, intelligent and funny way”, said Roberto Lima.\n",
            "   target: “O programa Rede Vivo de Inclusão Digital está totalmente alinhado com a missão da Vivo que é ‘criar condições para que as pessoas se relacionem, cada vez mais, a qualquer hora e em qualquer lugar, e assim possam viver de forma mais humana, segura, inteligente e divertida’”, afirmou Roberto Lima.\n",
            "\n",
            "--------------------------------------------------------------------------------------------------------------------------------------------------------------------------------------------------------\n",
            "Train size: 990000\n",
            "Valid size: 10000\n",
            "Test size: 20000\n"
          ]
        }
      ],
      "source": [
        "def load_text_pairs(path):\n",
        "    text_pairs = []\n",
        "    for line in gzip.open(path, mode='rt'):\n",
        "        text_pairs.append(line.strip().split('\\t'))\n",
        "    return text_pairs\n",
        "\n",
        "x_train = load_text_pairs('drive/MyDrive/NLP_Datasets/paracrawl_en_pt_train.tsv.gz')\n",
        "x_test  = load_text_pairs('drive/MyDrive/NLP_Datasets/paracrawl_en_pt_test.tsv.gz')\n",
        "\n",
        "random.shuffle(x_train)\n",
        "\n",
        "x_valid = x_train[990000:]\n",
        "x_train = x_train[:990000]\n",
        "\n",
        "print('\\nFirst three train samples:')\n",
        "for i, (source, target) in enumerate(x_train[:3]):\n",
        "  print(f'{i}: source: {source}\\n   target: {target}\\n')\n",
        "\n",
        "print('-'*200)\n",
        "print('\\nFirst three valid samples:')\n",
        "for i, (source, target) in enumerate(x_valid[:3]):\n",
        "  print(f'{i}: source: {source}\\n   target: {target}\\n')\n",
        "\n",
        "print('-'*200)\n",
        "print(f'Train size: {len(x_train)}')\n",
        "print(f'Valid size: {len(x_valid)}')\n",
        "print(f'Test size: {len(x_test)}')"
      ]
    },
    {
      "attachments": {},
      "cell_type": "markdown",
      "metadata": {
        "id": "HvM-RPirRnoZ"
      },
      "source": [
        "### Class Dataset from PyTorch.\n",
        "\n",
        "When training a T5 model for a translation task, the dataset should be structured in a way that includes pairs of source (input) sentences and target (output) sentences. Each pair represents a translation example.\n",
        "\n",
        "Here's an example of how the dataset can be structured:\n",
        "```\n",
        "  {\"source\": \"I like cats.\", \"target\": \"Eu gosto de gatos.\"},\n",
        "  {\"source\": \"The sun is shining.\", \"target\": \"O sol está brilhando.\"},\n",
        "  {\"source\": \"She speaks French.\", \"target\": \"Ela fala francês.\"},\n",
        "    ...\n",
        "```\n",
        "\n",
        "In this structure, each example is a dictionary with two keys: \"source\" and \"target\". The value for the \"source\" key represents the input sentence in the source language (e.g., English), and the value for the \"target\" key represents the corresponding translation sentence in the target language (e.g., Portuguese).\n",
        "\n",
        "During the training process, you would load this dataset into your custom PyTorch dataset class, preprocess the sentences (e.g., tokenization), and convert them into model-specific inputs and targets using a tokenizer (such as the [T5Tokenizer](https://huggingface.co/docs/transformers/model_doc/t5#transformers.T5Tokenizer) provided by Hugging Face).\n",
        "\n",
        "\n",
        "**Hint 1:** See the [Dataset and Dataloader documentation](https://pytorch.org/tutorials/beginner/basics/data_tutorial.html) for more information."
      ]
    },
    {
      "cell_type": "code",
      "execution_count": null,
      "metadata": {
        "id": "a35P0GCaY2Gc"
      },
      "outputs": [],
      "source": [
        "class ParacrawlDataset(Dataset):\n",
        "  def __init__(self, text_pairs: List[Tuple[str]], tokenizer, source_max_length: int = 32, target_max_length: int = 32):\n",
        "    self.text_pairs        = text_pairs\n",
        "    self.tokenizer         = tokenizer\n",
        "    self.source_max_length = source_max_length\n",
        "    self.target_max_length = target_max_length\n",
        "\n",
        "\n",
        "  def __len__(self):\n",
        "    return len(self.text_pairs)\n",
        "\n",
        "  def __getitem__(self, index):\n",
        "    source, target = self.text_pairs[index]\n",
        "\n",
        "    source_tokens = self.tokenizer(source, add_special_tokens=True,\n",
        "                                    max_length=self.source_max_length,\n",
        "                                    padding=\"max_length\",\n",
        "                                    truncation=True,\n",
        "                                    return_tensors='pt')\n",
        "\n",
        "    target_tokens = self.tokenizer(target, add_special_tokens=True,\n",
        "                                    max_length=self.target_max_length,\n",
        "                                    padding=\"max_length\",\n",
        "                                    truncation=True,\n",
        "                                    return_tensors='pt')\n",
        "\n",
        "    source_token_ids = source_tokens['input_ids'][0]\n",
        "    source_mask      = source_tokens['attention_mask'][0]\n",
        "    original_source  = source\n",
        "\n",
        "    target_token_ids = target_tokens['input_ids'][0]\n",
        "    target_mask      = target_tokens['attention_mask'][0]\n",
        "    original_target  = target\n",
        "\n",
        "    ## The output should return variables representing the following information:\n",
        "      # source_token_ids : The source sentence converted into tokens.\n",
        "      # source_mask      : The source mask attention.\n",
        "      # target_token_ids : The target sentence converted into tokens.\n",
        "      # target_mask      : The target mask attention.\n",
        "      # original_source  : Original source sentence without preprocess nor tokenization.\n",
        "      # original_target  : Original target sentence without preprocess nor tokenization.\n",
        "\n",
        "    return (source_token_ids, source_mask, target_token_ids, target_mask, original_source, original_target)"
      ]
    },
    {
      "cell_type": "code",
      "execution_count": null,
      "metadata": {
        "id": "H8dUNe9XZ0Fv"
      },
      "outputs": [],
      "source": [
        "tokenizer = T5Tokenizer.from_pretrained(params['model_name'])\n",
        "\n",
        "dataset_train = ParacrawlDataset(text_pairs=x_train, tokenizer=tokenizer, source_max_length=params['source_max_length'], target_max_length=params['target_max_length'])\n",
        "dataset_valid = ParacrawlDataset(text_pairs=x_valid, tokenizer=tokenizer, source_max_length=params['source_max_length'], target_max_length=params['target_max_length'])\n",
        "dataset_test  = ParacrawlDataset(text_pairs=x_test,  tokenizer=tokenizer, source_max_length=params['source_max_length'], target_max_length=params['target_max_length'])\n",
        "\n",
        "train_loader = DataLoader(dataset_train, batch_size=params['batch_size'], shuffle=True,  num_workers=0)\n",
        "valid_loader = DataLoader(dataset_valid, batch_size=params['batch_size'], shuffle=False, num_workers=0)\n",
        "test_loader  = DataLoader(dataset_test,  batch_size=params['batch_size'], shuffle=False, num_workers=0)"
      ]
    },
    {
      "attachments": {},
      "cell_type": "markdown",
      "metadata": {
        "id": "RaX2Y4A51Yfl"
      },
      "source": [
        "### Useful functions\n",
        "\n",
        "**Note 1:** The following functions are provided as suggestions. You are free to modify and create your own functions, classes, or code. Feel free to customize!\n",
        "\n",
        "**Note 2:** Example of gradient accumalation in PyTorch: https://kozodoi.me/blog/20210219/gradient-accumulation.\n",
        "\n",
        "**Note 3:** The training step function consists of just one iteration, not one epoch."
      ]
    },
    {
      "cell_type": "code",
      "execution_count": null,
      "metadata": {
        "id": "kEt2o_UPZ7qN"
      },
      "outputs": [],
      "source": [
        "def train_step():\n",
        "  ## --- Insert code here --- ##\n",
        "  return None\n",
        "\n",
        "def evaluate(model, dataloader, mode='loss'):\n",
        "  ## --- Insert code here --- ##\n",
        "  return None"
      ]
    },
    {
      "cell_type": "code",
      "execution_count": null,
      "metadata": {
        "id": "mHSbKmR-uBPm"
      },
      "outputs": [],
      "source": [
        "class EarlyStopping():\n",
        "  '''\n",
        "    Early stopping prevents overfitting by stopping the training process when\n",
        "    the model's performance on a validation set starts to worsen.\n",
        "\n",
        "    Parameters:\n",
        "    -----------\n",
        "    patience  : int\n",
        "      Tolerance for no improvement.\n",
        "    min_delta : float\n",
        "      Minimum change required.\n",
        "  '''\n",
        "\n",
        "  def __init__(self, patience=1, min_delta=0.0001):\n",
        "    self.patience = patience\n",
        "    self.counter = 0\n",
        "    self.best_score = None\n",
        "    self.best_model_wts = None\n",
        "    self.min_delta = min_delta\n",
        "\n",
        "  def __call__(self, model, val_loss):\n",
        "    score = -val_loss\n",
        "\n",
        "    if self.best_score is None:\n",
        "      self.best_score = score\n",
        "      self.best_model_wts = copy.deepcopy(model.state_dict())\n",
        "      return False\n",
        "\n",
        "    elif score < self.best_score + self.min_delta:\n",
        "      self.counter += 1\n",
        "      if self.counter >= self.patience:\n",
        "        return True\n",
        "    else:\n",
        "      self.best_score = score\n",
        "      self.best_model_wts = copy.deepcopy(model.state_dict())\n",
        "      self.counter = 0\n",
        "    return False"
      ]
    },
    {
      "attachments": {},
      "cell_type": "markdown",
      "metadata": {
        "id": "Q8rRqmrS4v_U"
      },
      "source": [
        "### Train the T5 model\n",
        "\n",
        "**Note:** The following functions are provided as suggestions. You are free to modify and create your own functions, classes, or code. Feel free to customize!\n",
        "\n",
        "**Hint 1:** See the [T5ForConditionalGeneration documentation](https://huggingface.co/docs/transformers/model_doc/t5#transformers.T5ForConditionalGeneration) for more information.\n",
        "\n",
        "**Hint 2:** Instead of saving information by epoch, you can save it by step. A step corresponds to a single update of the model's weights based on a mini-batch of data, while an epoch represents a complete pass through the entire training dataset. The number of steps is determined by the batch size and the total number of training examples, whereas the number of epochs is a user-defined hyperparameter.\n",
        "\n",
        "**Hint 3:** You don't need to train for an entire epoch, as that would take 4 hours. Instead, you can train for around 2000 steps and evaluate the model. Although the model may not be optimal, it provides a good approximation."
      ]
    },
    {
      "cell_type": "code",
      "execution_count": null,
      "metadata": {
        "id": "rj4o-r6KZ87z"
      },
      "outputs": [],
      "source": [
        "model = T5ForConditionalGeneration.from_pretrained(params['model_name'])\n",
        "model = model.to(device)\n",
        "\n",
        "optimizer = None\n",
        "scheduler = None\n",
        "\n",
        "early_stopping = EarlyStopping()\n",
        "\n",
        "history = {'train_loss': [], 'val_loss': []}\n",
        "epoch = 1\n",
        "\n",
        "while True:\n",
        "  for batch_idx, data in enumerate(tqdm(train_loader, total=len(train_loader), desc=f'Training step')):\n",
        "    train_loss = train_step()\n",
        "    history['train_loss'].append(train_loss)\n",
        "\n",
        "    if ((batch_idx + 1) % params['evaluate_interval'] == 0):\n",
        "        val_loss = evaluate()\n",
        "\n",
        "        history['val_loss'].append(val_loss)\n",
        "        if early_stopping(model=model, val_loss=val_loss): break\n",
        "\n",
        "  epoch += 1"
      ]
    },
    {
      "attachments": {},
      "cell_type": "markdown",
      "metadata": {
        "id": "z3ocN1q7UaOR"
      },
      "source": [
        "### Evaluation of the model"
      ]
    },
    {
      "cell_type": "code",
      "execution_count": null,
      "metadata": {
        "id": "YD8DbwYeS8My"
      },
      "outputs": [],
      "source": [
        "## Save Best Model Weights and history\n",
        "path = 'drive/MyDrive'\n",
        "torch.save(early_stopping.best_model_wts, f'{path}/weights_T5.pth')\n",
        "\n",
        "np.save(f'{path}/train_loss_T5', np.array(history['train_loss']))\n",
        "np.save(f'{path}/valid_loss_T5', np.array(history['valid_loss']))\n",
        "\n",
        "np.save(f'{path}/train_acc_T5', np.array(history['train_acc']))\n",
        "np.save(f'{path}/valid_acc_T5', np.array(history['valid_acc']))"
      ]
    },
    {
      "cell_type": "code",
      "execution_count": null,
      "metadata": {
        "id": "ARCeHm1Z-QOw"
      },
      "outputs": [],
      "source": [
        "## Load\n",
        "train_loss = np.load(f'{path}/train_loss_T5.npy')\n",
        "train_acc  = np.load(f'{path}/train_acc_T5.npy')\n",
        "\n",
        "valid_loss = np.load(f'{path}/valid_loss_T5.npy')\n",
        "valid_acc  = np.load(f'{path}/valid_acc_T5.npy')"
      ]
    },
    {
      "attachments": {},
      "cell_type": "markdown",
      "metadata": {
        "id": "tpDrexiCq5YU"
      },
      "source": [
        "#### Plot the Train and Valid loss (in Steps)"
      ]
    },
    {
      "cell_type": "code",
      "execution_count": null,
      "metadata": {
        "id": "gOXLZpp4rV3j"
      },
      "outputs": [],
      "source": [
        "## --- Insert code here --- ##\n",
        "plot(history)"
      ]
    },
    {
      "attachments": {},
      "cell_type": "markdown",
      "metadata": {
        "id": "Ykn2YIzko4vM"
      },
      "source": [
        "#### Calculate the BLEU Score\n",
        "\n",
        "[BLEU](https://en.wikipedia.org/wiki/BLEU) (Bilingual Evaluation Understudy) is a metric that measures the similarity between machine-generated translations and reference translations.\n",
        "\n",
        "**Hint 1:** There are many libraries that have already implemented the BLEU score, such as [torchmetrics](https://torchmetrics.readthedocs.io/en/latest/). You DON'T have to implement it yourself."
      ]
    },
    {
      "cell_type": "code",
      "execution_count": null,
      "metadata": {
        "id": "rgOYFWGS8odG"
      },
      "outputs": [],
      "source": [
        "## --- Insert code here --- ##\n",
        "def calculate_blue_score():\n",
        "  return None"
      ]
    },
    {
      "cell_type": "code",
      "execution_count": null,
      "metadata": {
        "id": "ZPQhPyl0s1pC"
      },
      "outputs": [],
      "source": [
        "model = T5ForConditionalGeneration.from_pretrained(params['model_name'])\n",
        "model.load_state_dict(early_stopping.best_model_wts)\n",
        "model.to(device)\n",
        "\n",
        "valid_blue_score = calculate_blue_score()\n",
        "test_blue_score  = calculate_blue_score()\n",
        "\n",
        "print(f'Validation BLUE: {valid_blue_score}')\n",
        "print(f'Test BLUE: {test_blue_score}')"
      ]
    },
    {
      "attachments": {},
      "cell_type": "markdown",
      "metadata": {
        "id": "LfjvUjvLraiv"
      },
      "source": [
        "#### Implement a function that translates an English sentence to Portuguese.\n",
        "\n",
        "**Hint 1:** See the documentation of [T5ForConditionalGeneration](https://huggingface.co/docs/transformers/model_doc/t5#transformers.T5ForConditionalGeneration).\n",
        "\n",
        "**Hint 2:** Remember to decode the feature generated by the model using the [T5Tokenizer](https://huggingface.co/docs/transformers/model_doc/t5#transformers.T5Tokenizer)"
      ]
    },
    {
      "cell_type": "code",
      "execution_count": null,
      "metadata": {
        "id": "NSoN9URHueL0"
      },
      "outputs": [],
      "source": [
        "def translate():\n",
        "## --- Insert code here --- ##\n",
        "  return None"
      ]
    },
    {
      "cell_type": "code",
      "execution_count": null,
      "metadata": {
        "id": "vrBepMhXKuLQ"
      },
      "outputs": [],
      "source": [
        "sample = None\n",
        "translate(sample)"
      ]
    },
    {
      "attachments": {},
      "cell_type": "markdown",
      "metadata": {
        "id": "RQokE9D2Q3dB"
      },
      "source": [
        "> What is your conclusion?"
      ]
    }
  ],
  "metadata": {
    "accelerator": "GPU",
    "colab": {
      "provenance": []
    },
    "kernelspec": {
      "display_name": "Python 3",
      "name": "python3"
    },
    "language_info": {
      "name": "python"
    },
    "widgets": {
      "application/vnd.jupyter.widget-state+json": {
        "02642fd8b8e94978ba43c1fcf304ac1e": {
          "model_module": "@jupyter-widgets/base",
          "model_module_version": "1.2.0",
          "model_name": "LayoutModel",
          "state": {
            "_model_module": "@jupyter-widgets/base",
            "_model_module_version": "1.2.0",
            "_model_name": "LayoutModel",
            "_view_count": null,
            "_view_module": "@jupyter-widgets/base",
            "_view_module_version": "1.2.0",
            "_view_name": "LayoutView",
            "align_content": null,
            "align_items": null,
            "align_self": null,
            "border": null,
            "bottom": null,
            "display": null,
            "flex": null,
            "flex_flow": null,
            "grid_area": null,
            "grid_auto_columns": null,
            "grid_auto_flow": null,
            "grid_auto_rows": null,
            "grid_column": null,
            "grid_gap": null,
            "grid_row": null,
            "grid_template_areas": null,
            "grid_template_columns": null,
            "grid_template_rows": null,
            "height": null,
            "justify_content": null,
            "justify_items": null,
            "left": null,
            "margin": null,
            "max_height": null,
            "max_width": null,
            "min_height": null,
            "min_width": null,
            "object_fit": null,
            "object_position": null,
            "order": null,
            "overflow": null,
            "overflow_x": null,
            "overflow_y": null,
            "padding": null,
            "right": null,
            "top": null,
            "visibility": null,
            "width": null
          }
        },
        "03c9e94da2ad4bd4851934d0b465c1a8": {
          "model_module": "@jupyter-widgets/base",
          "model_module_version": "1.2.0",
          "model_name": "LayoutModel",
          "state": {
            "_model_module": "@jupyter-widgets/base",
            "_model_module_version": "1.2.0",
            "_model_name": "LayoutModel",
            "_view_count": null,
            "_view_module": "@jupyter-widgets/base",
            "_view_module_version": "1.2.0",
            "_view_name": "LayoutView",
            "align_content": null,
            "align_items": null,
            "align_self": null,
            "border": null,
            "bottom": null,
            "display": null,
            "flex": null,
            "flex_flow": null,
            "grid_area": null,
            "grid_auto_columns": null,
            "grid_auto_flow": null,
            "grid_auto_rows": null,
            "grid_column": null,
            "grid_gap": null,
            "grid_row": null,
            "grid_template_areas": null,
            "grid_template_columns": null,
            "grid_template_rows": null,
            "height": null,
            "justify_content": null,
            "justify_items": null,
            "left": null,
            "margin": null,
            "max_height": null,
            "max_width": null,
            "min_height": null,
            "min_width": null,
            "object_fit": null,
            "object_position": null,
            "order": null,
            "overflow": null,
            "overflow_x": null,
            "overflow_y": null,
            "padding": null,
            "right": null,
            "top": null,
            "visibility": null,
            "width": null
          }
        },
        "05200763d15c4149b3867564dcb1715f": {
          "model_module": "@jupyter-widgets/controls",
          "model_module_version": "1.5.0",
          "model_name": "HTMLModel",
          "state": {
            "_dom_classes": [],
            "_model_module": "@jupyter-widgets/controls",
            "_model_module_version": "1.5.0",
            "_model_name": "HTMLModel",
            "_view_count": null,
            "_view_module": "@jupyter-widgets/controls",
            "_view_module_version": "1.5.0",
            "_view_name": "HTMLView",
            "description": "",
            "description_tooltip": null,
            "layout": "IPY_MODEL_4b3678bc9cb043ed8886df295d62022f",
            "placeholder": "​",
            "style": "IPY_MODEL_a1a20f84650142d2aec12c1db1b9b507",
            "value": "Downloading (…)solve/main/vocab.txt: 100%"
          }
        },
        "055c11f6273645e3b3f81de6581b0aa1": {
          "model_module": "@jupyter-widgets/controls",
          "model_module_version": "1.5.0",
          "model_name": "HTMLModel",
          "state": {
            "_dom_classes": [],
            "_model_module": "@jupyter-widgets/controls",
            "_model_module_version": "1.5.0",
            "_model_name": "HTMLModel",
            "_view_count": null,
            "_view_module": "@jupyter-widgets/controls",
            "_view_module_version": "1.5.0",
            "_view_name": "HTMLView",
            "description": "",
            "description_tooltip": null,
            "layout": "IPY_MODEL_479549e7b1344d1b9a8ca693870df3f1",
            "placeholder": "​",
            "style": "IPY_MODEL_147cb70bd8204897b99e34d8861be8a0",
            "value": " 232k/232k [00:00&lt;00:00, 4.54MB/s]"
          }
        },
        "0845073db8a5414aa94c91af7b047c3c": {
          "model_module": "@jupyter-widgets/controls",
          "model_module_version": "1.5.0",
          "model_name": "HBoxModel",
          "state": {
            "_dom_classes": [],
            "_model_module": "@jupyter-widgets/controls",
            "_model_module_version": "1.5.0",
            "_model_name": "HBoxModel",
            "_view_count": null,
            "_view_module": "@jupyter-widgets/controls",
            "_view_module_version": "1.5.0",
            "_view_name": "HBoxView",
            "box_style": "",
            "children": [
              "IPY_MODEL_74943b0c8756498bbff4ecb562ec4f13",
              "IPY_MODEL_c2cebc15f21e42adbf04dca8831622d2",
              "IPY_MODEL_d4a86e5f30144964a68c19baa725d6a2"
            ],
            "layout": "IPY_MODEL_7e7a2ac8b01b4be2b38bf4d6708b0426"
          }
        },
        "0ae7516d649d4848a9435c5f05888dde": {
          "model_module": "@jupyter-widgets/controls",
          "model_module_version": "1.5.0",
          "model_name": "HBoxModel",
          "state": {
            "_dom_classes": [],
            "_model_module": "@jupyter-widgets/controls",
            "_model_module_version": "1.5.0",
            "_model_name": "HBoxModel",
            "_view_count": null,
            "_view_module": "@jupyter-widgets/controls",
            "_view_module_version": "1.5.0",
            "_view_name": "HBoxView",
            "box_style": "",
            "children": [
              "IPY_MODEL_132a2d7a09434c8a8b35f246f5ad81c3",
              "IPY_MODEL_a1d31529641045d2b51e782e26123ee0",
              "IPY_MODEL_551375e0962e48b3b5382c71ab0243c8"
            ],
            "layout": "IPY_MODEL_99edf9d993ea47c5a871f0e4a8f2a183"
          }
        },
        "0eed74b2178947e0b26301bb7a95f156": {
          "model_module": "@jupyter-widgets/base",
          "model_module_version": "1.2.0",
          "model_name": "LayoutModel",
          "state": {
            "_model_module": "@jupyter-widgets/base",
            "_model_module_version": "1.2.0",
            "_model_name": "LayoutModel",
            "_view_count": null,
            "_view_module": "@jupyter-widgets/base",
            "_view_module_version": "1.2.0",
            "_view_name": "LayoutView",
            "align_content": null,
            "align_items": null,
            "align_self": null,
            "border": null,
            "bottom": null,
            "display": null,
            "flex": null,
            "flex_flow": null,
            "grid_area": null,
            "grid_auto_columns": null,
            "grid_auto_flow": null,
            "grid_auto_rows": null,
            "grid_column": null,
            "grid_gap": null,
            "grid_row": null,
            "grid_template_areas": null,
            "grid_template_columns": null,
            "grid_template_rows": null,
            "height": null,
            "justify_content": null,
            "justify_items": null,
            "left": null,
            "margin": null,
            "max_height": null,
            "max_width": null,
            "min_height": null,
            "min_width": null,
            "object_fit": null,
            "object_position": null,
            "order": null,
            "overflow": null,
            "overflow_x": null,
            "overflow_y": null,
            "padding": null,
            "right": null,
            "top": null,
            "visibility": null,
            "width": null
          }
        },
        "11f308427e944e33a5043b534e573a7c": {
          "model_module": "@jupyter-widgets/controls",
          "model_module_version": "1.5.0",
          "model_name": "DescriptionStyleModel",
          "state": {
            "_model_module": "@jupyter-widgets/controls",
            "_model_module_version": "1.5.0",
            "_model_name": "DescriptionStyleModel",
            "_view_count": null,
            "_view_module": "@jupyter-widgets/base",
            "_view_module_version": "1.2.0",
            "_view_name": "StyleView",
            "description_width": ""
          }
        },
        "132a2d7a09434c8a8b35f246f5ad81c3": {
          "model_module": "@jupyter-widgets/controls",
          "model_module_version": "1.5.0",
          "model_name": "HTMLModel",
          "state": {
            "_dom_classes": [],
            "_model_module": "@jupyter-widgets/controls",
            "_model_module_version": "1.5.0",
            "_model_name": "HTMLModel",
            "_view_count": null,
            "_view_module": "@jupyter-widgets/controls",
            "_view_module_version": "1.5.0",
            "_view_name": "HTMLView",
            "description": "",
            "description_tooltip": null,
            "layout": "IPY_MODEL_03c9e94da2ad4bd4851934d0b465c1a8",
            "placeholder": "​",
            "style": "IPY_MODEL_87d58f2cd0be4c85b782e59677575e88",
            "value": "Downloading (…)lve/main/config.json: 100%"
          }
        },
        "147cb70bd8204897b99e34d8861be8a0": {
          "model_module": "@jupyter-widgets/controls",
          "model_module_version": "1.5.0",
          "model_name": "DescriptionStyleModel",
          "state": {
            "_model_module": "@jupyter-widgets/controls",
            "_model_module_version": "1.5.0",
            "_model_name": "DescriptionStyleModel",
            "_view_count": null,
            "_view_module": "@jupyter-widgets/base",
            "_view_module_version": "1.2.0",
            "_view_name": "StyleView",
            "description_width": ""
          }
        },
        "243cb2cde7684404b174068cc4827a85": {
          "model_module": "@jupyter-widgets/base",
          "model_module_version": "1.2.0",
          "model_name": "LayoutModel",
          "state": {
            "_model_module": "@jupyter-widgets/base",
            "_model_module_version": "1.2.0",
            "_model_name": "LayoutModel",
            "_view_count": null,
            "_view_module": "@jupyter-widgets/base",
            "_view_module_version": "1.2.0",
            "_view_name": "LayoutView",
            "align_content": null,
            "align_items": null,
            "align_self": null,
            "border": null,
            "bottom": null,
            "display": null,
            "flex": null,
            "flex_flow": null,
            "grid_area": null,
            "grid_auto_columns": null,
            "grid_auto_flow": null,
            "grid_auto_rows": null,
            "grid_column": null,
            "grid_gap": null,
            "grid_row": null,
            "grid_template_areas": null,
            "grid_template_columns": null,
            "grid_template_rows": null,
            "height": null,
            "justify_content": null,
            "justify_items": null,
            "left": null,
            "margin": null,
            "max_height": null,
            "max_width": null,
            "min_height": null,
            "min_width": null,
            "object_fit": null,
            "object_position": null,
            "order": null,
            "overflow": null,
            "overflow_x": null,
            "overflow_y": null,
            "padding": null,
            "right": null,
            "top": null,
            "visibility": null,
            "width": null
          }
        },
        "38f9b8e76b3649a092b02c24f3c554d4": {
          "model_module": "@jupyter-widgets/controls",
          "model_module_version": "1.5.0",
          "model_name": "HTMLModel",
          "state": {
            "_dom_classes": [],
            "_model_module": "@jupyter-widgets/controls",
            "_model_module_version": "1.5.0",
            "_model_name": "HTMLModel",
            "_view_count": null,
            "_view_module": "@jupyter-widgets/controls",
            "_view_module_version": "1.5.0",
            "_view_name": "HTMLView",
            "description": "",
            "description_tooltip": null,
            "layout": "IPY_MODEL_0eed74b2178947e0b26301bb7a95f156",
            "placeholder": "​",
            "style": "IPY_MODEL_4414e93b226246aabc89a75975eb9672",
            "value": "Downloading pytorch_model.bin: 100%"
          }
        },
        "3ca65b1a2c6542c0a3614ef26bf63924": {
          "model_module": "@jupyter-widgets/controls",
          "model_module_version": "1.5.0",
          "model_name": "HBoxModel",
          "state": {
            "_dom_classes": [],
            "_model_module": "@jupyter-widgets/controls",
            "_model_module_version": "1.5.0",
            "_model_name": "HBoxModel",
            "_view_count": null,
            "_view_module": "@jupyter-widgets/controls",
            "_view_module_version": "1.5.0",
            "_view_name": "HBoxView",
            "box_style": "",
            "children": [
              "IPY_MODEL_38f9b8e76b3649a092b02c24f3c554d4",
              "IPY_MODEL_be37cf13ee9345d491de5231cbc8b396",
              "IPY_MODEL_bcb215640b054ccb9081c1e7818b2461"
            ],
            "layout": "IPY_MODEL_f84513af559a4e55a60a0aea1e70fa3a"
          }
        },
        "4414e93b226246aabc89a75975eb9672": {
          "model_module": "@jupyter-widgets/controls",
          "model_module_version": "1.5.0",
          "model_name": "DescriptionStyleModel",
          "state": {
            "_model_module": "@jupyter-widgets/controls",
            "_model_module_version": "1.5.0",
            "_model_name": "DescriptionStyleModel",
            "_view_count": null,
            "_view_module": "@jupyter-widgets/base",
            "_view_module_version": "1.2.0",
            "_view_name": "StyleView",
            "description_width": ""
          }
        },
        "47346a9bb3754d82a9e4c3ead25954c6": {
          "model_module": "@jupyter-widgets/controls",
          "model_module_version": "1.5.0",
          "model_name": "HBoxModel",
          "state": {
            "_dom_classes": [],
            "_model_module": "@jupyter-widgets/controls",
            "_model_module_version": "1.5.0",
            "_model_name": "HBoxModel",
            "_view_count": null,
            "_view_module": "@jupyter-widgets/controls",
            "_view_module_version": "1.5.0",
            "_view_name": "HBoxView",
            "box_style": "",
            "children": [
              "IPY_MODEL_05200763d15c4149b3867564dcb1715f",
              "IPY_MODEL_d8961373e88148238d349e98aa1f338c",
              "IPY_MODEL_055c11f6273645e3b3f81de6581b0aa1"
            ],
            "layout": "IPY_MODEL_b5de98c66ec1400b9831552468734694"
          }
        },
        "479549e7b1344d1b9a8ca693870df3f1": {
          "model_module": "@jupyter-widgets/base",
          "model_module_version": "1.2.0",
          "model_name": "LayoutModel",
          "state": {
            "_model_module": "@jupyter-widgets/base",
            "_model_module_version": "1.2.0",
            "_model_name": "LayoutModel",
            "_view_count": null,
            "_view_module": "@jupyter-widgets/base",
            "_view_module_version": "1.2.0",
            "_view_name": "LayoutView",
            "align_content": null,
            "align_items": null,
            "align_self": null,
            "border": null,
            "bottom": null,
            "display": null,
            "flex": null,
            "flex_flow": null,
            "grid_area": null,
            "grid_auto_columns": null,
            "grid_auto_flow": null,
            "grid_auto_rows": null,
            "grid_column": null,
            "grid_gap": null,
            "grid_row": null,
            "grid_template_areas": null,
            "grid_template_columns": null,
            "grid_template_rows": null,
            "height": null,
            "justify_content": null,
            "justify_items": null,
            "left": null,
            "margin": null,
            "max_height": null,
            "max_width": null,
            "min_height": null,
            "min_width": null,
            "object_fit": null,
            "object_position": null,
            "order": null,
            "overflow": null,
            "overflow_x": null,
            "overflow_y": null,
            "padding": null,
            "right": null,
            "top": null,
            "visibility": null,
            "width": null
          }
        },
        "47fffbcbc2b949b6bc6dad53209ba025": {
          "model_module": "@jupyter-widgets/controls",
          "model_module_version": "1.5.0",
          "model_name": "DescriptionStyleModel",
          "state": {
            "_model_module": "@jupyter-widgets/controls",
            "_model_module_version": "1.5.0",
            "_model_name": "DescriptionStyleModel",
            "_view_count": null,
            "_view_module": "@jupyter-widgets/base",
            "_view_module_version": "1.2.0",
            "_view_name": "StyleView",
            "description_width": ""
          }
        },
        "4b3678bc9cb043ed8886df295d62022f": {
          "model_module": "@jupyter-widgets/base",
          "model_module_version": "1.2.0",
          "model_name": "LayoutModel",
          "state": {
            "_model_module": "@jupyter-widgets/base",
            "_model_module_version": "1.2.0",
            "_model_name": "LayoutModel",
            "_view_count": null,
            "_view_module": "@jupyter-widgets/base",
            "_view_module_version": "1.2.0",
            "_view_name": "LayoutView",
            "align_content": null,
            "align_items": null,
            "align_self": null,
            "border": null,
            "bottom": null,
            "display": null,
            "flex": null,
            "flex_flow": null,
            "grid_area": null,
            "grid_auto_columns": null,
            "grid_auto_flow": null,
            "grid_auto_rows": null,
            "grid_column": null,
            "grid_gap": null,
            "grid_row": null,
            "grid_template_areas": null,
            "grid_template_columns": null,
            "grid_template_rows": null,
            "height": null,
            "justify_content": null,
            "justify_items": null,
            "left": null,
            "margin": null,
            "max_height": null,
            "max_width": null,
            "min_height": null,
            "min_width": null,
            "object_fit": null,
            "object_position": null,
            "order": null,
            "overflow": null,
            "overflow_x": null,
            "overflow_y": null,
            "padding": null,
            "right": null,
            "top": null,
            "visibility": null,
            "width": null
          }
        },
        "551375e0962e48b3b5382c71ab0243c8": {
          "model_module": "@jupyter-widgets/controls",
          "model_module_version": "1.5.0",
          "model_name": "HTMLModel",
          "state": {
            "_dom_classes": [],
            "_model_module": "@jupyter-widgets/controls",
            "_model_module_version": "1.5.0",
            "_model_name": "HTMLModel",
            "_view_count": null,
            "_view_module": "@jupyter-widgets/controls",
            "_view_module_version": "1.5.0",
            "_view_name": "HTMLView",
            "description": "",
            "description_tooltip": null,
            "layout": "IPY_MODEL_02642fd8b8e94978ba43c1fcf304ac1e",
            "placeholder": "​",
            "style": "IPY_MODEL_742d4c727f994bf584638a8bece097c6",
            "value": " 383/383 [00:00&lt;00:00, 29.0kB/s]"
          }
        },
        "5f640d4952ac46c6a7564950f2975c7e": {
          "model_module": "@jupyter-widgets/base",
          "model_module_version": "1.2.0",
          "model_name": "LayoutModel",
          "state": {
            "_model_module": "@jupyter-widgets/base",
            "_model_module_version": "1.2.0",
            "_model_name": "LayoutModel",
            "_view_count": null,
            "_view_module": "@jupyter-widgets/base",
            "_view_module_version": "1.2.0",
            "_view_name": "LayoutView",
            "align_content": null,
            "align_items": null,
            "align_self": null,
            "border": null,
            "bottom": null,
            "display": null,
            "flex": null,
            "flex_flow": null,
            "grid_area": null,
            "grid_auto_columns": null,
            "grid_auto_flow": null,
            "grid_auto_rows": null,
            "grid_column": null,
            "grid_gap": null,
            "grid_row": null,
            "grid_template_areas": null,
            "grid_template_columns": null,
            "grid_template_rows": null,
            "height": null,
            "justify_content": null,
            "justify_items": null,
            "left": null,
            "margin": null,
            "max_height": null,
            "max_width": null,
            "min_height": null,
            "min_width": null,
            "object_fit": null,
            "object_position": null,
            "order": null,
            "overflow": null,
            "overflow_x": null,
            "overflow_y": null,
            "padding": null,
            "right": null,
            "top": null,
            "visibility": null,
            "width": null
          }
        },
        "742d4c727f994bf584638a8bece097c6": {
          "model_module": "@jupyter-widgets/controls",
          "model_module_version": "1.5.0",
          "model_name": "DescriptionStyleModel",
          "state": {
            "_model_module": "@jupyter-widgets/controls",
            "_model_module_version": "1.5.0",
            "_model_name": "DescriptionStyleModel",
            "_view_count": null,
            "_view_module": "@jupyter-widgets/base",
            "_view_module_version": "1.2.0",
            "_view_name": "StyleView",
            "description_width": ""
          }
        },
        "74943b0c8756498bbff4ecb562ec4f13": {
          "model_module": "@jupyter-widgets/controls",
          "model_module_version": "1.5.0",
          "model_name": "HTMLModel",
          "state": {
            "_dom_classes": [],
            "_model_module": "@jupyter-widgets/controls",
            "_model_module_version": "1.5.0",
            "_model_name": "HTMLModel",
            "_view_count": null,
            "_view_module": "@jupyter-widgets/controls",
            "_view_module_version": "1.5.0",
            "_view_name": "HTMLView",
            "description": "",
            "description_tooltip": null,
            "layout": "IPY_MODEL_fcf516c1472f4aa3bf197c5a2ba20f11",
            "placeholder": "​",
            "style": "IPY_MODEL_b8908fa08b8b4eadac7be250f1daac7e",
            "value": "Training: 100%"
          }
        },
        "7703a50af1514aaab378d2fe68ddeed7": {
          "model_module": "@jupyter-widgets/controls",
          "model_module_version": "1.5.0",
          "model_name": "ProgressStyleModel",
          "state": {
            "_model_module": "@jupyter-widgets/controls",
            "_model_module_version": "1.5.0",
            "_model_name": "ProgressStyleModel",
            "_view_count": null,
            "_view_module": "@jupyter-widgets/base",
            "_view_module_version": "1.2.0",
            "_view_name": "StyleView",
            "bar_color": null,
            "description_width": ""
          }
        },
        "7e7a2ac8b01b4be2b38bf4d6708b0426": {
          "model_module": "@jupyter-widgets/base",
          "model_module_version": "1.2.0",
          "model_name": "LayoutModel",
          "state": {
            "_model_module": "@jupyter-widgets/base",
            "_model_module_version": "1.2.0",
            "_model_name": "LayoutModel",
            "_view_count": null,
            "_view_module": "@jupyter-widgets/base",
            "_view_module_version": "1.2.0",
            "_view_name": "LayoutView",
            "align_content": null,
            "align_items": null,
            "align_self": null,
            "border": null,
            "bottom": null,
            "display": null,
            "flex": null,
            "flex_flow": null,
            "grid_area": null,
            "grid_auto_columns": null,
            "grid_auto_flow": null,
            "grid_auto_rows": null,
            "grid_column": null,
            "grid_gap": null,
            "grid_row": null,
            "grid_template_areas": null,
            "grid_template_columns": null,
            "grid_template_rows": null,
            "height": null,
            "justify_content": null,
            "justify_items": null,
            "left": null,
            "margin": null,
            "max_height": null,
            "max_width": null,
            "min_height": null,
            "min_width": null,
            "object_fit": null,
            "object_position": null,
            "order": null,
            "overflow": null,
            "overflow_x": null,
            "overflow_y": null,
            "padding": null,
            "right": null,
            "top": null,
            "visibility": null,
            "width": null
          }
        },
        "87d58f2cd0be4c85b782e59677575e88": {
          "model_module": "@jupyter-widgets/controls",
          "model_module_version": "1.5.0",
          "model_name": "DescriptionStyleModel",
          "state": {
            "_model_module": "@jupyter-widgets/controls",
            "_model_module_version": "1.5.0",
            "_model_name": "DescriptionStyleModel",
            "_view_count": null,
            "_view_module": "@jupyter-widgets/base",
            "_view_module_version": "1.2.0",
            "_view_name": "StyleView",
            "description_width": ""
          }
        },
        "8ad1d955982143768634dd19f10b369c": {
          "model_module": "@jupyter-widgets/base",
          "model_module_version": "1.2.0",
          "model_name": "LayoutModel",
          "state": {
            "_model_module": "@jupyter-widgets/base",
            "_model_module_version": "1.2.0",
            "_model_name": "LayoutModel",
            "_view_count": null,
            "_view_module": "@jupyter-widgets/base",
            "_view_module_version": "1.2.0",
            "_view_name": "LayoutView",
            "align_content": null,
            "align_items": null,
            "align_self": null,
            "border": null,
            "bottom": null,
            "display": null,
            "flex": null,
            "flex_flow": null,
            "grid_area": null,
            "grid_auto_columns": null,
            "grid_auto_flow": null,
            "grid_auto_rows": null,
            "grid_column": null,
            "grid_gap": null,
            "grid_row": null,
            "grid_template_areas": null,
            "grid_template_columns": null,
            "grid_template_rows": null,
            "height": null,
            "justify_content": null,
            "justify_items": null,
            "left": null,
            "margin": null,
            "max_height": null,
            "max_width": null,
            "min_height": null,
            "min_width": null,
            "object_fit": null,
            "object_position": null,
            "order": null,
            "overflow": null,
            "overflow_x": null,
            "overflow_y": null,
            "padding": null,
            "right": null,
            "top": null,
            "visibility": null,
            "width": null
          }
        },
        "91b5be9f2dfb4b5fab935ad205c326fc": {
          "model_module": "@jupyter-widgets/base",
          "model_module_version": "1.2.0",
          "model_name": "LayoutModel",
          "state": {
            "_model_module": "@jupyter-widgets/base",
            "_model_module_version": "1.2.0",
            "_model_name": "LayoutModel",
            "_view_count": null,
            "_view_module": "@jupyter-widgets/base",
            "_view_module_version": "1.2.0",
            "_view_name": "LayoutView",
            "align_content": null,
            "align_items": null,
            "align_self": null,
            "border": null,
            "bottom": null,
            "display": null,
            "flex": null,
            "flex_flow": null,
            "grid_area": null,
            "grid_auto_columns": null,
            "grid_auto_flow": null,
            "grid_auto_rows": null,
            "grid_column": null,
            "grid_gap": null,
            "grid_row": null,
            "grid_template_areas": null,
            "grid_template_columns": null,
            "grid_template_rows": null,
            "height": null,
            "justify_content": null,
            "justify_items": null,
            "left": null,
            "margin": null,
            "max_height": null,
            "max_width": null,
            "min_height": null,
            "min_width": null,
            "object_fit": null,
            "object_position": null,
            "order": null,
            "overflow": null,
            "overflow_x": null,
            "overflow_y": null,
            "padding": null,
            "right": null,
            "top": null,
            "visibility": null,
            "width": null
          }
        },
        "99edf9d993ea47c5a871f0e4a8f2a183": {
          "model_module": "@jupyter-widgets/base",
          "model_module_version": "1.2.0",
          "model_name": "LayoutModel",
          "state": {
            "_model_module": "@jupyter-widgets/base",
            "_model_module_version": "1.2.0",
            "_model_name": "LayoutModel",
            "_view_count": null,
            "_view_module": "@jupyter-widgets/base",
            "_view_module_version": "1.2.0",
            "_view_name": "LayoutView",
            "align_content": null,
            "align_items": null,
            "align_self": null,
            "border": null,
            "bottom": null,
            "display": null,
            "flex": null,
            "flex_flow": null,
            "grid_area": null,
            "grid_auto_columns": null,
            "grid_auto_flow": null,
            "grid_auto_rows": null,
            "grid_column": null,
            "grid_gap": null,
            "grid_row": null,
            "grid_template_areas": null,
            "grid_template_columns": null,
            "grid_template_rows": null,
            "height": null,
            "justify_content": null,
            "justify_items": null,
            "left": null,
            "margin": null,
            "max_height": null,
            "max_width": null,
            "min_height": null,
            "min_width": null,
            "object_fit": null,
            "object_position": null,
            "order": null,
            "overflow": null,
            "overflow_x": null,
            "overflow_y": null,
            "padding": null,
            "right": null,
            "top": null,
            "visibility": null,
            "width": null
          }
        },
        "a0524c4fcf0c4e819dbdebcfc2415d18": {
          "model_module": "@jupyter-widgets/base",
          "model_module_version": "1.2.0",
          "model_name": "LayoutModel",
          "state": {
            "_model_module": "@jupyter-widgets/base",
            "_model_module_version": "1.2.0",
            "_model_name": "LayoutModel",
            "_view_count": null,
            "_view_module": "@jupyter-widgets/base",
            "_view_module_version": "1.2.0",
            "_view_name": "LayoutView",
            "align_content": null,
            "align_items": null,
            "align_self": null,
            "border": null,
            "bottom": null,
            "display": null,
            "flex": null,
            "flex_flow": null,
            "grid_area": null,
            "grid_auto_columns": null,
            "grid_auto_flow": null,
            "grid_auto_rows": null,
            "grid_column": null,
            "grid_gap": null,
            "grid_row": null,
            "grid_template_areas": null,
            "grid_template_columns": null,
            "grid_template_rows": null,
            "height": null,
            "justify_content": null,
            "justify_items": null,
            "left": null,
            "margin": null,
            "max_height": null,
            "max_width": null,
            "min_height": null,
            "min_width": null,
            "object_fit": null,
            "object_position": null,
            "order": null,
            "overflow": null,
            "overflow_x": null,
            "overflow_y": null,
            "padding": null,
            "right": null,
            "top": null,
            "visibility": null,
            "width": null
          }
        },
        "a1a20f84650142d2aec12c1db1b9b507": {
          "model_module": "@jupyter-widgets/controls",
          "model_module_version": "1.5.0",
          "model_name": "DescriptionStyleModel",
          "state": {
            "_model_module": "@jupyter-widgets/controls",
            "_model_module_version": "1.5.0",
            "_model_name": "DescriptionStyleModel",
            "_view_count": null,
            "_view_module": "@jupyter-widgets/base",
            "_view_module_version": "1.2.0",
            "_view_name": "StyleView",
            "description_width": ""
          }
        },
        "a1d31529641045d2b51e782e26123ee0": {
          "model_module": "@jupyter-widgets/controls",
          "model_module_version": "1.5.0",
          "model_name": "FloatProgressModel",
          "state": {
            "_dom_classes": [],
            "_model_module": "@jupyter-widgets/controls",
            "_model_module_version": "1.5.0",
            "_model_name": "FloatProgressModel",
            "_view_count": null,
            "_view_module": "@jupyter-widgets/controls",
            "_view_module_version": "1.5.0",
            "_view_name": "ProgressView",
            "bar_style": "success",
            "description": "",
            "description_tooltip": null,
            "layout": "IPY_MODEL_243cb2cde7684404b174068cc4827a85",
            "max": 383,
            "min": 0,
            "orientation": "horizontal",
            "style": "IPY_MODEL_f7062ab887fe4634980f7c70344e6121",
            "value": 383
          }
        },
        "ad6c9c250f074e93819142692ac26992": {
          "model_module": "@jupyter-widgets/controls",
          "model_module_version": "1.5.0",
          "model_name": "ProgressStyleModel",
          "state": {
            "_model_module": "@jupyter-widgets/controls",
            "_model_module_version": "1.5.0",
            "_model_name": "ProgressStyleModel",
            "_view_count": null,
            "_view_module": "@jupyter-widgets/base",
            "_view_module_version": "1.2.0",
            "_view_name": "StyleView",
            "bar_color": null,
            "description_width": ""
          }
        },
        "b5de98c66ec1400b9831552468734694": {
          "model_module": "@jupyter-widgets/base",
          "model_module_version": "1.2.0",
          "model_name": "LayoutModel",
          "state": {
            "_model_module": "@jupyter-widgets/base",
            "_model_module_version": "1.2.0",
            "_model_name": "LayoutModel",
            "_view_count": null,
            "_view_module": "@jupyter-widgets/base",
            "_view_module_version": "1.2.0",
            "_view_name": "LayoutView",
            "align_content": null,
            "align_items": null,
            "align_self": null,
            "border": null,
            "bottom": null,
            "display": null,
            "flex": null,
            "flex_flow": null,
            "grid_area": null,
            "grid_auto_columns": null,
            "grid_auto_flow": null,
            "grid_auto_rows": null,
            "grid_column": null,
            "grid_gap": null,
            "grid_row": null,
            "grid_template_areas": null,
            "grid_template_columns": null,
            "grid_template_rows": null,
            "height": null,
            "justify_content": null,
            "justify_items": null,
            "left": null,
            "margin": null,
            "max_height": null,
            "max_width": null,
            "min_height": null,
            "min_width": null,
            "object_fit": null,
            "object_position": null,
            "order": null,
            "overflow": null,
            "overflow_x": null,
            "overflow_y": null,
            "padding": null,
            "right": null,
            "top": null,
            "visibility": null,
            "width": null
          }
        },
        "b6bc85c146a24f40aa941e73e82416e5": {
          "model_module": "@jupyter-widgets/controls",
          "model_module_version": "1.5.0",
          "model_name": "ProgressStyleModel",
          "state": {
            "_model_module": "@jupyter-widgets/controls",
            "_model_module_version": "1.5.0",
            "_model_name": "ProgressStyleModel",
            "_view_count": null,
            "_view_module": "@jupyter-widgets/base",
            "_view_module_version": "1.2.0",
            "_view_name": "StyleView",
            "bar_color": null,
            "description_width": ""
          }
        },
        "b8908fa08b8b4eadac7be250f1daac7e": {
          "model_module": "@jupyter-widgets/controls",
          "model_module_version": "1.5.0",
          "model_name": "DescriptionStyleModel",
          "state": {
            "_model_module": "@jupyter-widgets/controls",
            "_model_module_version": "1.5.0",
            "_model_name": "DescriptionStyleModel",
            "_view_count": null,
            "_view_module": "@jupyter-widgets/base",
            "_view_module_version": "1.2.0",
            "_view_name": "StyleView",
            "description_width": ""
          }
        },
        "bcb215640b054ccb9081c1e7818b2461": {
          "model_module": "@jupyter-widgets/controls",
          "model_module_version": "1.5.0",
          "model_name": "HTMLModel",
          "state": {
            "_dom_classes": [],
            "_model_module": "@jupyter-widgets/controls",
            "_model_module_version": "1.5.0",
            "_model_name": "HTMLModel",
            "_view_count": null,
            "_view_module": "@jupyter-widgets/controls",
            "_view_module_version": "1.5.0",
            "_view_name": "HTMLView",
            "description": "",
            "description_tooltip": null,
            "layout": "IPY_MODEL_91b5be9f2dfb4b5fab935ad205c326fc",
            "placeholder": "​",
            "style": "IPY_MODEL_47fffbcbc2b949b6bc6dad53209ba025",
            "value": " 45.1M/45.1M [00:01&lt;00:00, 44.0MB/s]"
          }
        },
        "be37cf13ee9345d491de5231cbc8b396": {
          "model_module": "@jupyter-widgets/controls",
          "model_module_version": "1.5.0",
          "model_name": "FloatProgressModel",
          "state": {
            "_dom_classes": [],
            "_model_module": "@jupyter-widgets/controls",
            "_model_module_version": "1.5.0",
            "_model_name": "FloatProgressModel",
            "_view_count": null,
            "_view_module": "@jupyter-widgets/controls",
            "_view_module_version": "1.5.0",
            "_view_name": "ProgressView",
            "bar_style": "success",
            "description": "",
            "description_tooltip": null,
            "layout": "IPY_MODEL_cac3ad8666ab4221be5bfd15e865ab23",
            "max": 45088961,
            "min": 0,
            "orientation": "horizontal",
            "style": "IPY_MODEL_7703a50af1514aaab378d2fe68ddeed7",
            "value": 45088961
          }
        },
        "c2cebc15f21e42adbf04dca8831622d2": {
          "model_module": "@jupyter-widgets/controls",
          "model_module_version": "1.5.0",
          "model_name": "FloatProgressModel",
          "state": {
            "_dom_classes": [],
            "_model_module": "@jupyter-widgets/controls",
            "_model_module_version": "1.5.0",
            "_model_name": "FloatProgressModel",
            "_view_count": null,
            "_view_module": "@jupyter-widgets/controls",
            "_view_module_version": "1.5.0",
            "_view_name": "ProgressView",
            "bar_style": "success",
            "description": "",
            "description_tooltip": null,
            "layout": "IPY_MODEL_8ad1d955982143768634dd19f10b369c",
            "max": 5,
            "min": 0,
            "orientation": "horizontal",
            "style": "IPY_MODEL_b6bc85c146a24f40aa941e73e82416e5",
            "value": 5
          }
        },
        "cac3ad8666ab4221be5bfd15e865ab23": {
          "model_module": "@jupyter-widgets/base",
          "model_module_version": "1.2.0",
          "model_name": "LayoutModel",
          "state": {
            "_model_module": "@jupyter-widgets/base",
            "_model_module_version": "1.2.0",
            "_model_name": "LayoutModel",
            "_view_count": null,
            "_view_module": "@jupyter-widgets/base",
            "_view_module_version": "1.2.0",
            "_view_name": "LayoutView",
            "align_content": null,
            "align_items": null,
            "align_self": null,
            "border": null,
            "bottom": null,
            "display": null,
            "flex": null,
            "flex_flow": null,
            "grid_area": null,
            "grid_auto_columns": null,
            "grid_auto_flow": null,
            "grid_auto_rows": null,
            "grid_column": null,
            "grid_gap": null,
            "grid_row": null,
            "grid_template_areas": null,
            "grid_template_columns": null,
            "grid_template_rows": null,
            "height": null,
            "justify_content": null,
            "justify_items": null,
            "left": null,
            "margin": null,
            "max_height": null,
            "max_width": null,
            "min_height": null,
            "min_width": null,
            "object_fit": null,
            "object_position": null,
            "order": null,
            "overflow": null,
            "overflow_x": null,
            "overflow_y": null,
            "padding": null,
            "right": null,
            "top": null,
            "visibility": null,
            "width": null
          }
        },
        "d4a86e5f30144964a68c19baa725d6a2": {
          "model_module": "@jupyter-widgets/controls",
          "model_module_version": "1.5.0",
          "model_name": "HTMLModel",
          "state": {
            "_dom_classes": [],
            "_model_module": "@jupyter-widgets/controls",
            "_model_module_version": "1.5.0",
            "_model_name": "HTMLModel",
            "_view_count": null,
            "_view_module": "@jupyter-widgets/controls",
            "_view_module_version": "1.5.0",
            "_view_name": "HTMLView",
            "description": "",
            "description_tooltip": null,
            "layout": "IPY_MODEL_a0524c4fcf0c4e819dbdebcfc2415d18",
            "placeholder": "​",
            "style": "IPY_MODEL_11f308427e944e33a5043b534e573a7c",
            "value": " 5/5 [05:05&lt;00:00, 61.05s/it]"
          }
        },
        "d8961373e88148238d349e98aa1f338c": {
          "model_module": "@jupyter-widgets/controls",
          "model_module_version": "1.5.0",
          "model_name": "FloatProgressModel",
          "state": {
            "_dom_classes": [],
            "_model_module": "@jupyter-widgets/controls",
            "_model_module_version": "1.5.0",
            "_model_name": "FloatProgressModel",
            "_view_count": null,
            "_view_module": "@jupyter-widgets/controls",
            "_view_module_version": "1.5.0",
            "_view_name": "ProgressView",
            "bar_style": "success",
            "description": "",
            "description_tooltip": null,
            "layout": "IPY_MODEL_5f640d4952ac46c6a7564950f2975c7e",
            "max": 231508,
            "min": 0,
            "orientation": "horizontal",
            "style": "IPY_MODEL_ad6c9c250f074e93819142692ac26992",
            "value": 231508
          }
        },
        "f7062ab887fe4634980f7c70344e6121": {
          "model_module": "@jupyter-widgets/controls",
          "model_module_version": "1.5.0",
          "model_name": "ProgressStyleModel",
          "state": {
            "_model_module": "@jupyter-widgets/controls",
            "_model_module_version": "1.5.0",
            "_model_name": "ProgressStyleModel",
            "_view_count": null,
            "_view_module": "@jupyter-widgets/base",
            "_view_module_version": "1.2.0",
            "_view_name": "StyleView",
            "bar_color": null,
            "description_width": ""
          }
        },
        "f84513af559a4e55a60a0aea1e70fa3a": {
          "model_module": "@jupyter-widgets/base",
          "model_module_version": "1.2.0",
          "model_name": "LayoutModel",
          "state": {
            "_model_module": "@jupyter-widgets/base",
            "_model_module_version": "1.2.0",
            "_model_name": "LayoutModel",
            "_view_count": null,
            "_view_module": "@jupyter-widgets/base",
            "_view_module_version": "1.2.0",
            "_view_name": "LayoutView",
            "align_content": null,
            "align_items": null,
            "align_self": null,
            "border": null,
            "bottom": null,
            "display": null,
            "flex": null,
            "flex_flow": null,
            "grid_area": null,
            "grid_auto_columns": null,
            "grid_auto_flow": null,
            "grid_auto_rows": null,
            "grid_column": null,
            "grid_gap": null,
            "grid_row": null,
            "grid_template_areas": null,
            "grid_template_columns": null,
            "grid_template_rows": null,
            "height": null,
            "justify_content": null,
            "justify_items": null,
            "left": null,
            "margin": null,
            "max_height": null,
            "max_width": null,
            "min_height": null,
            "min_width": null,
            "object_fit": null,
            "object_position": null,
            "order": null,
            "overflow": null,
            "overflow_x": null,
            "overflow_y": null,
            "padding": null,
            "right": null,
            "top": null,
            "visibility": null,
            "width": null
          }
        },
        "fcf516c1472f4aa3bf197c5a2ba20f11": {
          "model_module": "@jupyter-widgets/base",
          "model_module_version": "1.2.0",
          "model_name": "LayoutModel",
          "state": {
            "_model_module": "@jupyter-widgets/base",
            "_model_module_version": "1.2.0",
            "_model_name": "LayoutModel",
            "_view_count": null,
            "_view_module": "@jupyter-widgets/base",
            "_view_module_version": "1.2.0",
            "_view_name": "LayoutView",
            "align_content": null,
            "align_items": null,
            "align_self": null,
            "border": null,
            "bottom": null,
            "display": null,
            "flex": null,
            "flex_flow": null,
            "grid_area": null,
            "grid_auto_columns": null,
            "grid_auto_flow": null,
            "grid_auto_rows": null,
            "grid_column": null,
            "grid_gap": null,
            "grid_row": null,
            "grid_template_areas": null,
            "grid_template_columns": null,
            "grid_template_rows": null,
            "height": null,
            "justify_content": null,
            "justify_items": null,
            "left": null,
            "margin": null,
            "max_height": null,
            "max_width": null,
            "min_height": null,
            "min_width": null,
            "object_fit": null,
            "object_position": null,
            "order": null,
            "overflow": null,
            "overflow_x": null,
            "overflow_y": null,
            "padding": null,
            "right": null,
            "top": null,
            "visibility": null,
            "width": null
          }
        }
      }
    }
  },
  "nbformat": 4,
  "nbformat_minor": 0
}
