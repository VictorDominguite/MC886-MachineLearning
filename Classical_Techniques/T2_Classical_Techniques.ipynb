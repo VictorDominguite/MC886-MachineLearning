{
  "cells": [
    {
      "cell_type": "markdown",
      "metadata": {
        "id": "erlRBrJIUyrB"
      },
      "source": [
        "# **Task \\#2**: Machine Learning MC886/MO444\n",
        "##**Classical Machine Learning Techniques**##"
      ]
    },
    {
      "cell_type": "code",
      "execution_count": 111,
      "metadata": {
        "colab": {
          "base_uri": "https://localhost:8080/"
        },
        "id": "fjNwzgz-UTLB",
        "outputId": "51843fcb-803b-4cda-dee0-25cc9cbfa385"
      },
      "outputs": [
        {
          "name": "stdout",
          "output_type": "stream",
          "text": [
            "Tobias Conran Zorzetto 166214\n",
            "Victor Costa Dominguite 245003\n"
          ]
        }
      ],
      "source": [
        "print('Tobias Conran Zorzetto' + ' 166214')\n",
        "print('Victor Costa Dominguite' + ' 245003')"
      ]
    },
    {
      "cell_type": "markdown",
      "metadata": {
        "id": "B1gEHx0gU-w2"
      },
      "source": [
        "## Objective:\n",
        "\n",
        "To explore **Linear Regression** and **Logistic Regression** alternatives and come up with the best possible model for the problems, at the same time avoiding overfitting (and also underfitting). In this work, we will train a model that use medical records from patients to predict patient survival."
      ]
    },
    {
      "cell_type": "markdown",
      "metadata": {
        "id": "QkUuHD5MKhrk"
      },
      "source": [
        "## Dataset\n",
        "\n",
        "The purpose of this dataset is to predict the patients' survival from medical records. These data is available in [Google Sheets](https://docs.google.com/spreadsheets/d/18-PlYBnwD7yJoyGJOsaB5Wydc2iTG9sSnbuuV4t4efE/edit?usp=sharing), consisting in 299 patients with heart failure collected in 2015. \n",
        "\n",
        "**Data Dictionary**:\n",
        "\n",
        "- **AGE**: Age of the patient (years);\n",
        "\n",
        "- **ANAEMIA**: Decrease of red blood cells or hemoglobin (boolean);\n",
        "\n",
        "- **HIGH BLODD PRESSURE**: If the patient has hypertension (boolean);\n",
        "\n",
        "- **CREATININE PHOSPHOKINASE (CPK)**: Level of the CPK enzyme in the blood (mcg/L);\n",
        "\n",
        "- **DIABETES**: If the patient has diabetes (boolean);\n",
        "\n",
        "- **EJECTION FRACTION**: Percentage of blood leaving the heart at each contraction (percentage);\n",
        "\n",
        "- **PLATELETS**: Platelets in the blood (kiloplatelets/mL);\n",
        "\n",
        "- **SEX**: Woman or man (binary);\n",
        "\n",
        "- **SERUM CREATININE**: Level of serum creatinine in the blood (mg/dL);\n",
        "\n",
        "- **SERUM SODIUM**: Level of serum sodium in the blood (mEq/L);\n",
        "\n",
        "- **SMOKING**: If the patient smokes or not (boolean);\n",
        "\n",
        "- **TIME**: Follow-up period (days);\n",
        "\n",
        "- **DEATH EVENT**: If the patient deceased during the follow-up period (boolean);\n",
        "\n",
        "More information about the dataset: *Chicco, D., Jurman, G. Machine learning can predict survival of patients with heart failure from serum creatinine and ejection fraction alone. BMC Med Inform Decis Mak 20, 16 (2020). https://doi.org/10.1186/s12911-020-1023-5*"
      ]
    },
    {
      "cell_type": "code",
      "execution_count": 112,
      "metadata": {
        "colab": {
          "base_uri": "https://localhost:8080/",
          "height": 206
        },
        "id": "anh4gw-zV2ed",
        "outputId": "9b1a0025-53b3-456e-8432-ab811debc8e7"
      },
      "outputs": [
        {
          "data": {
            "text/html": [
              "<div>\n",
              "<style scoped>\n",
              "    .dataframe tbody tr th:only-of-type {\n",
              "        vertical-align: middle;\n",
              "    }\n",
              "\n",
              "    .dataframe tbody tr th {\n",
              "        vertical-align: top;\n",
              "    }\n",
              "\n",
              "    .dataframe thead th {\n",
              "        text-align: right;\n",
              "    }\n",
              "</style>\n",
              "<table border=\"1\" class=\"dataframe\">\n",
              "  <thead>\n",
              "    <tr style=\"text-align: right;\">\n",
              "      <th></th>\n",
              "      <th>age</th>\n",
              "      <th>anaemia</th>\n",
              "      <th>creatinine_phosphokinase</th>\n",
              "      <th>diabetes</th>\n",
              "      <th>ejection_fraction</th>\n",
              "      <th>high_blood_pressure</th>\n",
              "      <th>platelets</th>\n",
              "      <th>serum_creatinine</th>\n",
              "      <th>serum_sodium</th>\n",
              "      <th>sex</th>\n",
              "      <th>smoking</th>\n",
              "      <th>DEATH_EVENT</th>\n",
              "    </tr>\n",
              "  </thead>\n",
              "  <tbody>\n",
              "    <tr>\n",
              "      <th>0</th>\n",
              "      <td>75.0</td>\n",
              "      <td>No</td>\n",
              "      <td>582.0</td>\n",
              "      <td>No</td>\n",
              "      <td>20.0</td>\n",
              "      <td>1.0</td>\n",
              "      <td>265000.00</td>\n",
              "      <td>1.9</td>\n",
              "      <td>130.0</td>\n",
              "      <td>Female</td>\n",
              "      <td>No</td>\n",
              "      <td>1</td>\n",
              "    </tr>\n",
              "    <tr>\n",
              "      <th>1</th>\n",
              "      <td>55.0</td>\n",
              "      <td>No</td>\n",
              "      <td>7861.0</td>\n",
              "      <td>No</td>\n",
              "      <td>38.0</td>\n",
              "      <td>0.0</td>\n",
              "      <td>263358.03</td>\n",
              "      <td>1.1</td>\n",
              "      <td>136.0</td>\n",
              "      <td>Female</td>\n",
              "      <td>No</td>\n",
              "      <td>1</td>\n",
              "    </tr>\n",
              "    <tr>\n",
              "      <th>2</th>\n",
              "      <td>65.0</td>\n",
              "      <td>No</td>\n",
              "      <td>146.0</td>\n",
              "      <td>No</td>\n",
              "      <td>20.0</td>\n",
              "      <td>0.0</td>\n",
              "      <td>162000.00</td>\n",
              "      <td>1.3</td>\n",
              "      <td>129.0</td>\n",
              "      <td>Female</td>\n",
              "      <td>Yes</td>\n",
              "      <td>1</td>\n",
              "    </tr>\n",
              "    <tr>\n",
              "      <th>3</th>\n",
              "      <td>50.0</td>\n",
              "      <td>Yes</td>\n",
              "      <td>111.0</td>\n",
              "      <td>No</td>\n",
              "      <td>20.0</td>\n",
              "      <td>0.0</td>\n",
              "      <td>210000.00</td>\n",
              "      <td>1.9</td>\n",
              "      <td>137.0</td>\n",
              "      <td>Female</td>\n",
              "      <td>No</td>\n",
              "      <td>1</td>\n",
              "    </tr>\n",
              "    <tr>\n",
              "      <th>4</th>\n",
              "      <td>NaN</td>\n",
              "      <td>Yes</td>\n",
              "      <td>160.0</td>\n",
              "      <td>Yes</td>\n",
              "      <td>20.0</td>\n",
              "      <td>0.0</td>\n",
              "      <td>327000.00</td>\n",
              "      <td>2.7</td>\n",
              "      <td>116.0</td>\n",
              "      <td>Male</td>\n",
              "      <td>No</td>\n",
              "      <td>1</td>\n",
              "    </tr>\n",
              "  </tbody>\n",
              "</table>\n",
              "</div>"
            ],
            "text/plain": [
              "    age anaemia  creatinine_phosphokinase diabetes  ejection_fraction   \n",
              "0  75.0      No                     582.0       No               20.0  \\\n",
              "1  55.0      No                    7861.0       No               38.0   \n",
              "2  65.0      No                     146.0       No               20.0   \n",
              "3  50.0     Yes                     111.0       No               20.0   \n",
              "4   NaN     Yes                     160.0      Yes               20.0   \n",
              "\n",
              "   high_blood_pressure  platelets  serum_creatinine  serum_sodium     sex   \n",
              "0                  1.0  265000.00               1.9         130.0  Female  \\\n",
              "1                  0.0  263358.03               1.1         136.0  Female   \n",
              "2                  0.0  162000.00               1.3         129.0  Female   \n",
              "3                  0.0  210000.00               1.9         137.0  Female   \n",
              "4                  0.0  327000.00               2.7         116.0    Male   \n",
              "\n",
              "  smoking  DEATH_EVENT  \n",
              "0      No            1  \n",
              "1      No            1  \n",
              "2     Yes            1  \n",
              "3      No            1  \n",
              "4      No            1  "
            ]
          },
          "execution_count": 112,
          "metadata": {},
          "output_type": "execute_result"
        }
      ],
      "source": [
        "import numpy as np\n",
        "import pandas as pd\n",
        "import seaborn as sns\n",
        "import plotly.express as px\n",
        "import matplotlib.pyplot as plt\n",
        "\n",
        "df = pd.read_csv('heart_dataset.csv').drop(columns=['time'])\n",
        "df.head(5)"
      ]
    },
    {
      "cell_type": "markdown",
      "metadata": {
        "id": "NQmaNgdX7L8O"
      },
      "source": [
        "### Analysis\n"
      ]
    },
    {
      "cell_type": "markdown",
      "metadata": {
        "id": "TL0r1lFVO6Yd"
      },
      "source": [
        "(0.5 points) This part of the assignmente aims to analyze the dataset and preprocess the data for the models. To do so, a fews things to be considered: \n",
        "\n",
        "\n",
        "*   Are there any outliers?\n",
        "*   Are there missing values?\n",
        "*   How will you handle categorical variables?"
      ]
    },
    {
      "cell_type": "code",
      "execution_count": 113,
      "metadata": {
        "colab": {
          "base_uri": "https://localhost:8080/",
          "height": 424
        },
        "id": "Eq8csCfFEDyS",
        "outputId": "6612411e-41eb-4a12-a92c-af6082df2305"
      },
      "outputs": [
        {
          "data": {
            "text/html": [
              "<div>\n",
              "<style scoped>\n",
              "    .dataframe tbody tr th:only-of-type {\n",
              "        vertical-align: middle;\n",
              "    }\n",
              "\n",
              "    .dataframe tbody tr th {\n",
              "        vertical-align: top;\n",
              "    }\n",
              "\n",
              "    .dataframe thead th {\n",
              "        text-align: right;\n",
              "    }\n",
              "</style>\n",
              "<table border=\"1\" class=\"dataframe\">\n",
              "  <thead>\n",
              "    <tr style=\"text-align: right;\">\n",
              "      <th></th>\n",
              "      <th>age</th>\n",
              "      <th>anaemia</th>\n",
              "      <th>creatinine_phosphokinase</th>\n",
              "      <th>diabetes</th>\n",
              "      <th>ejection_fraction</th>\n",
              "      <th>high_blood_pressure</th>\n",
              "      <th>platelets</th>\n",
              "      <th>serum_creatinine</th>\n",
              "      <th>serum_sodium</th>\n",
              "      <th>sex</th>\n",
              "      <th>smoking</th>\n",
              "      <th>DEATH_EVENT</th>\n",
              "    </tr>\n",
              "  </thead>\n",
              "  <tbody>\n",
              "    <tr>\n",
              "      <th>0</th>\n",
              "      <td>75.0</td>\n",
              "      <td>0.0</td>\n",
              "      <td>582.0</td>\n",
              "      <td>0.0</td>\n",
              "      <td>20.0</td>\n",
              "      <td>1.0</td>\n",
              "      <td>265000.0</td>\n",
              "      <td>1.9</td>\n",
              "      <td>130.0</td>\n",
              "      <td>0.0</td>\n",
              "      <td>0.0</td>\n",
              "      <td>1.0</td>\n",
              "    </tr>\n",
              "    <tr>\n",
              "      <th>2</th>\n",
              "      <td>65.0</td>\n",
              "      <td>0.0</td>\n",
              "      <td>146.0</td>\n",
              "      <td>0.0</td>\n",
              "      <td>20.0</td>\n",
              "      <td>0.0</td>\n",
              "      <td>162000.0</td>\n",
              "      <td>1.3</td>\n",
              "      <td>129.0</td>\n",
              "      <td>0.0</td>\n",
              "      <td>1.0</td>\n",
              "      <td>1.0</td>\n",
              "    </tr>\n",
              "    <tr>\n",
              "      <th>3</th>\n",
              "      <td>50.0</td>\n",
              "      <td>1.0</td>\n",
              "      <td>111.0</td>\n",
              "      <td>0.0</td>\n",
              "      <td>20.0</td>\n",
              "      <td>0.0</td>\n",
              "      <td>210000.0</td>\n",
              "      <td>1.9</td>\n",
              "      <td>137.0</td>\n",
              "      <td>0.0</td>\n",
              "      <td>0.0</td>\n",
              "      <td>1.0</td>\n",
              "    </tr>\n",
              "    <tr>\n",
              "      <th>5</th>\n",
              "      <td>90.0</td>\n",
              "      <td>1.0</td>\n",
              "      <td>47.0</td>\n",
              "      <td>0.0</td>\n",
              "      <td>40.0</td>\n",
              "      <td>1.0</td>\n",
              "      <td>204000.0</td>\n",
              "      <td>2.1</td>\n",
              "      <td>132.0</td>\n",
              "      <td>0.0</td>\n",
              "      <td>1.0</td>\n",
              "      <td>1.0</td>\n",
              "    </tr>\n",
              "    <tr>\n",
              "      <th>6</th>\n",
              "      <td>75.0</td>\n",
              "      <td>1.0</td>\n",
              "      <td>246.0</td>\n",
              "      <td>0.0</td>\n",
              "      <td>15.0</td>\n",
              "      <td>0.0</td>\n",
              "      <td>127000.0</td>\n",
              "      <td>1.2</td>\n",
              "      <td>137.0</td>\n",
              "      <td>0.0</td>\n",
              "      <td>0.0</td>\n",
              "      <td>1.0</td>\n",
              "    </tr>\n",
              "    <tr>\n",
              "      <th>...</th>\n",
              "      <td>...</td>\n",
              "      <td>...</td>\n",
              "      <td>...</td>\n",
              "      <td>...</td>\n",
              "      <td>...</td>\n",
              "      <td>...</td>\n",
              "      <td>...</td>\n",
              "      <td>...</td>\n",
              "      <td>...</td>\n",
              "      <td>...</td>\n",
              "      <td>...</td>\n",
              "      <td>...</td>\n",
              "    </tr>\n",
              "    <tr>\n",
              "      <th>287</th>\n",
              "      <td>45.0</td>\n",
              "      <td>0.0</td>\n",
              "      <td>582.0</td>\n",
              "      <td>1.0</td>\n",
              "      <td>55.0</td>\n",
              "      <td>0.0</td>\n",
              "      <td>543000.0</td>\n",
              "      <td>1.0</td>\n",
              "      <td>132.0</td>\n",
              "      <td>1.0</td>\n",
              "      <td>0.0</td>\n",
              "      <td>0.0</td>\n",
              "    </tr>\n",
              "    <tr>\n",
              "      <th>289</th>\n",
              "      <td>90.0</td>\n",
              "      <td>1.0</td>\n",
              "      <td>337.0</td>\n",
              "      <td>0.0</td>\n",
              "      <td>38.0</td>\n",
              "      <td>0.0</td>\n",
              "      <td>390000.0</td>\n",
              "      <td>0.9</td>\n",
              "      <td>144.0</td>\n",
              "      <td>1.0</td>\n",
              "      <td>0.0</td>\n",
              "      <td>0.0</td>\n",
              "    </tr>\n",
              "    <tr>\n",
              "      <th>290</th>\n",
              "      <td>45.0</td>\n",
              "      <td>0.0</td>\n",
              "      <td>615.0</td>\n",
              "      <td>1.0</td>\n",
              "      <td>55.0</td>\n",
              "      <td>0.0</td>\n",
              "      <td>222000.0</td>\n",
              "      <td>0.8</td>\n",
              "      <td>141.0</td>\n",
              "      <td>1.0</td>\n",
              "      <td>0.0</td>\n",
              "      <td>0.0</td>\n",
              "    </tr>\n",
              "    <tr>\n",
              "      <th>293</th>\n",
              "      <td>63.0</td>\n",
              "      <td>1.0</td>\n",
              "      <td>103.0</td>\n",
              "      <td>1.0</td>\n",
              "      <td>35.0</td>\n",
              "      <td>0.0</td>\n",
              "      <td>179000.0</td>\n",
              "      <td>0.9</td>\n",
              "      <td>136.0</td>\n",
              "      <td>0.0</td>\n",
              "      <td>1.0</td>\n",
              "      <td>0.0</td>\n",
              "    </tr>\n",
              "    <tr>\n",
              "      <th>297</th>\n",
              "      <td>45.0</td>\n",
              "      <td>0.0</td>\n",
              "      <td>2413.0</td>\n",
              "      <td>0.0</td>\n",
              "      <td>38.0</td>\n",
              "      <td>0.0</td>\n",
              "      <td>140000.0</td>\n",
              "      <td>1.4</td>\n",
              "      <td>140.0</td>\n",
              "      <td>0.0</td>\n",
              "      <td>1.0</td>\n",
              "      <td>0.0</td>\n",
              "    </tr>\n",
              "  </tbody>\n",
              "</table>\n",
              "<p>259 rows × 12 columns</p>\n",
              "</div>"
            ],
            "text/plain": [
              "      age  anaemia  creatinine_phosphokinase  diabetes  ejection_fraction   \n",
              "0    75.0      0.0                     582.0       0.0               20.0  \\\n",
              "2    65.0      0.0                     146.0       0.0               20.0   \n",
              "3    50.0      1.0                     111.0       0.0               20.0   \n",
              "5    90.0      1.0                      47.0       0.0               40.0   \n",
              "6    75.0      1.0                     246.0       0.0               15.0   \n",
              "..    ...      ...                       ...       ...                ...   \n",
              "287  45.0      0.0                     582.0       1.0               55.0   \n",
              "289  90.0      1.0                     337.0       0.0               38.0   \n",
              "290  45.0      0.0                     615.0       1.0               55.0   \n",
              "293  63.0      1.0                     103.0       1.0               35.0   \n",
              "297  45.0      0.0                    2413.0       0.0               38.0   \n",
              "\n",
              "     high_blood_pressure  platelets  serum_creatinine  serum_sodium  sex   \n",
              "0                    1.0   265000.0               1.9         130.0  0.0  \\\n",
              "2                    0.0   162000.0               1.3         129.0  0.0   \n",
              "3                    0.0   210000.0               1.9         137.0  0.0   \n",
              "5                    1.0   204000.0               2.1         132.0  0.0   \n",
              "6                    0.0   127000.0               1.2         137.0  0.0   \n",
              "..                   ...        ...               ...           ...  ...   \n",
              "287                  0.0   543000.0               1.0         132.0  1.0   \n",
              "289                  0.0   390000.0               0.9         144.0  1.0   \n",
              "290                  0.0   222000.0               0.8         141.0  1.0   \n",
              "293                  0.0   179000.0               0.9         136.0  0.0   \n",
              "297                  0.0   140000.0               1.4         140.0  0.0   \n",
              "\n",
              "     smoking  DEATH_EVENT  \n",
              "0        0.0          1.0  \n",
              "2        1.0          1.0  \n",
              "3        0.0          1.0  \n",
              "5        1.0          1.0  \n",
              "6        0.0          1.0  \n",
              "..       ...          ...  \n",
              "287      0.0          0.0  \n",
              "289      0.0          0.0  \n",
              "290      0.0          0.0  \n",
              "293      1.0          0.0  \n",
              "297      1.0          0.0  \n",
              "\n",
              "[259 rows x 12 columns]"
            ]
          },
          "execution_count": 113,
          "metadata": {},
          "output_type": "execute_result"
        }
      ],
      "source": [
        "from scipy import stats\n",
        "\n",
        "# Rows with missing values are removed from the dataset\n",
        "df = df.dropna(axis=0)\n",
        "\n",
        "# Dealing with categorical variables by replacing them with numerical values\n",
        "df['anaemia'].replace(['No', 'Yes'], [0, 1], inplace=True)\n",
        "df['diabetes'].replace(['No', 'Yes'], [0, 1], inplace=True)\n",
        "df['smoking'].replace(['No', 'Yes'], [0, 1], inplace=True)\n",
        "df['sex'].replace(['Female', 'Male'], [0, 1], inplace=True)\n",
        "df = df.astype('float64')\n",
        "\n",
        "# Calculates the Z-score and only keeps rows within 3 standard deviations of its\n",
        "# mean to avoid outliers\n",
        "df = df[(np.abs(stats.zscore(df)) < 3)]\n",
        "df = df.dropna(axis=0)\n",
        "df"
      ]
    },
    {
      "cell_type": "markdown",
      "metadata": {
        "id": "_Z-o2l0xEom-"
      },
      "source": [
        "## Linear Regression"
      ]
    },
    {
      "cell_type": "markdown",
      "metadata": {
        "id": "FtWOiVbUW4T5"
      },
      "source": [
        "(0.75 points) This part of the assigment aims to predict the level of serum creatinine in the blod based on their medical records. \n",
        "\n",
        "*   Do we need to split the data into train, valid and test? How?\n",
        "*   Do we need to normalize the data? How? The normalization is equal to train, valid and test split?\n",
        "* **Target value: serum_creatinine**.\n",
        "\n",
        "Obs: drop the DEATH_EVENT column."
      ]
    },
    {
      "cell_type": "code",
      "execution_count": 114,
      "metadata": {
        "id": "3JQo-C4DXq22"
      },
      "outputs": [
        {
          "data": {
            "text/html": [
              "<div>\n",
              "<style scoped>\n",
              "    .dataframe tbody tr th:only-of-type {\n",
              "        vertical-align: middle;\n",
              "    }\n",
              "\n",
              "    .dataframe tbody tr th {\n",
              "        vertical-align: top;\n",
              "    }\n",
              "\n",
              "    .dataframe thead th {\n",
              "        text-align: right;\n",
              "    }\n",
              "</style>\n",
              "<table border=\"1\" class=\"dataframe\">\n",
              "  <thead>\n",
              "    <tr style=\"text-align: right;\">\n",
              "      <th></th>\n",
              "      <th>age</th>\n",
              "      <th>anaemia</th>\n",
              "      <th>creatinine_phosphokinase</th>\n",
              "      <th>diabetes</th>\n",
              "      <th>ejection_fraction</th>\n",
              "      <th>high_blood_pressure</th>\n",
              "      <th>platelets</th>\n",
              "      <th>serum_sodium</th>\n",
              "      <th>sex</th>\n",
              "      <th>smoking</th>\n",
              "    </tr>\n",
              "  </thead>\n",
              "  <tbody>\n",
              "    <tr>\n",
              "      <th>184</th>\n",
              "      <td>-0.275623</td>\n",
              "      <td>1.108037</td>\n",
              "      <td>-0.601574</td>\n",
              "      <td>-0.773592</td>\n",
              "      <td>-1.097586</td>\n",
              "      <td>-0.801179</td>\n",
              "      <td>-0.420499</td>\n",
              "      <td>0.103996</td>\n",
              "      <td>-0.719812</td>\n",
              "      <td>1.300804</td>\n",
              "    </tr>\n",
              "    <tr>\n",
              "      <th>179</th>\n",
              "      <td>-0.526036</td>\n",
              "      <td>-0.897510</td>\n",
              "      <td>0.739516</td>\n",
              "      <td>-0.773592</td>\n",
              "      <td>0.179716</td>\n",
              "      <td>-0.801179</td>\n",
              "      <td>0.292708</td>\n",
              "      <td>0.922398</td>\n",
              "      <td>-0.719812</td>\n",
              "      <td>1.300804</td>\n",
              "    </tr>\n",
              "    <tr>\n",
              "      <th>213</th>\n",
              "      <td>-1.110333</td>\n",
              "      <td>1.108037</td>\n",
              "      <td>-0.628784</td>\n",
              "      <td>1.285529</td>\n",
              "      <td>-0.671818</td>\n",
              "      <td>1.241264</td>\n",
              "      <td>-0.123330</td>\n",
              "      <td>-1.805610</td>\n",
              "      <td>1.381575</td>\n",
              "      <td>-0.764508</td>\n",
              "    </tr>\n",
              "    <tr>\n",
              "      <th>108</th>\n",
              "      <td>0.141731</td>\n",
              "      <td>-0.897510</td>\n",
              "      <td>0.935821</td>\n",
              "      <td>-0.773592</td>\n",
              "      <td>0.009409</td>\n",
              "      <td>-0.801179</td>\n",
              "      <td>0.589878</td>\n",
              "      <td>-0.987207</td>\n",
              "      <td>-0.719812</td>\n",
              "      <td>1.300804</td>\n",
              "    </tr>\n",
              "    <tr>\n",
              "      <th>282</th>\n",
              "      <td>-1.611159</td>\n",
              "      <td>-0.897510</td>\n",
              "      <td>-0.759006</td>\n",
              "      <td>-0.773592</td>\n",
              "      <td>-0.671818</td>\n",
              "      <td>-0.801179</td>\n",
              "      <td>-0.468047</td>\n",
              "      <td>-2.351211</td>\n",
              "      <td>-0.719812</td>\n",
              "      <td>1.300804</td>\n",
              "    </tr>\n",
              "    <tr>\n",
              "      <th>...</th>\n",
              "      <td>...</td>\n",
              "      <td>...</td>\n",
              "      <td>...</td>\n",
              "      <td>...</td>\n",
              "      <td>...</td>\n",
              "      <td>...</td>\n",
              "      <td>...</td>\n",
              "      <td>...</td>\n",
              "      <td>...</td>\n",
              "      <td>...</td>\n",
              "    </tr>\n",
              "    <tr>\n",
              "      <th>25</th>\n",
              "      <td>1.560738</td>\n",
              "      <td>-0.897510</td>\n",
              "      <td>-0.595743</td>\n",
              "      <td>1.285529</td>\n",
              "      <td>0.009409</td>\n",
              "      <td>-0.801179</td>\n",
              "      <td>-1.252575</td>\n",
              "      <td>2.013601</td>\n",
              "      <td>-0.719812</td>\n",
              "      <td>1.300804</td>\n",
              "    </tr>\n",
              "    <tr>\n",
              "      <th>206</th>\n",
              "      <td>-1.778101</td>\n",
              "      <td>1.108037</td>\n",
              "      <td>-0.687093</td>\n",
              "      <td>-0.773592</td>\n",
              "      <td>0.179716</td>\n",
              "      <td>-0.801179</td>\n",
              "      <td>-0.337292</td>\n",
              "      <td>1.195199</td>\n",
              "      <td>1.381575</td>\n",
              "      <td>-0.764508</td>\n",
              "    </tr>\n",
              "    <tr>\n",
              "      <th>81</th>\n",
              "      <td>0.475615</td>\n",
              "      <td>-0.897510</td>\n",
              "      <td>0.247783</td>\n",
              "      <td>-0.773592</td>\n",
              "      <td>1.031251</td>\n",
              "      <td>-0.801179</td>\n",
              "      <td>0.106775</td>\n",
              "      <td>0.103996</td>\n",
              "      <td>-0.719812</td>\n",
              "      <td>1.300804</td>\n",
              "    </tr>\n",
              "    <tr>\n",
              "      <th>119</th>\n",
              "      <td>2.061563</td>\n",
              "      <td>-0.897510</td>\n",
              "      <td>0.247783</td>\n",
              "      <td>-0.773592</td>\n",
              "      <td>0.009409</td>\n",
              "      <td>-0.801179</td>\n",
              "      <td>0.106775</td>\n",
              "      <td>-0.714406</td>\n",
              "      <td>1.381575</td>\n",
              "      <td>-0.764508</td>\n",
              "    </tr>\n",
              "    <tr>\n",
              "      <th>115</th>\n",
              "      <td>-0.275623</td>\n",
              "      <td>1.108037</td>\n",
              "      <td>-0.105954</td>\n",
              "      <td>-0.773592</td>\n",
              "      <td>0.179716</td>\n",
              "      <td>-0.801179</td>\n",
              "      <td>-1.074273</td>\n",
              "      <td>0.649597</td>\n",
              "      <td>1.381575</td>\n",
              "      <td>-0.764508</td>\n",
              "    </tr>\n",
              "  </tbody>\n",
              "</table>\n",
              "<p>181 rows × 10 columns</p>\n",
              "</div>"
            ],
            "text/plain": [
              "          age   anaemia  creatinine_phosphokinase  diabetes   \n",
              "184 -0.275623  1.108037                 -0.601574 -0.773592  \\\n",
              "179 -0.526036 -0.897510                  0.739516 -0.773592   \n",
              "213 -1.110333  1.108037                 -0.628784  1.285529   \n",
              "108  0.141731 -0.897510                  0.935821 -0.773592   \n",
              "282 -1.611159 -0.897510                 -0.759006 -0.773592   \n",
              "..        ...       ...                       ...       ...   \n",
              "25   1.560738 -0.897510                 -0.595743  1.285529   \n",
              "206 -1.778101  1.108037                 -0.687093 -0.773592   \n",
              "81   0.475615 -0.897510                  0.247783 -0.773592   \n",
              "119  2.061563 -0.897510                  0.247783 -0.773592   \n",
              "115 -0.275623  1.108037                 -0.105954 -0.773592   \n",
              "\n",
              "     ejection_fraction  high_blood_pressure  platelets  serum_sodium   \n",
              "184          -1.097586            -0.801179  -0.420499      0.103996  \\\n",
              "179           0.179716            -0.801179   0.292708      0.922398   \n",
              "213          -0.671818             1.241264  -0.123330     -1.805610   \n",
              "108           0.009409            -0.801179   0.589878     -0.987207   \n",
              "282          -0.671818            -0.801179  -0.468047     -2.351211   \n",
              "..                 ...                  ...        ...           ...   \n",
              "25            0.009409            -0.801179  -1.252575      2.013601   \n",
              "206           0.179716            -0.801179  -0.337292      1.195199   \n",
              "81            1.031251            -0.801179   0.106775      0.103996   \n",
              "119           0.009409            -0.801179   0.106775     -0.714406   \n",
              "115           0.179716            -0.801179  -1.074273      0.649597   \n",
              "\n",
              "          sex   smoking  \n",
              "184 -0.719812  1.300804  \n",
              "179 -0.719812  1.300804  \n",
              "213  1.381575 -0.764508  \n",
              "108 -0.719812  1.300804  \n",
              "282 -0.719812  1.300804  \n",
              "..        ...       ...  \n",
              "25  -0.719812  1.300804  \n",
              "206  1.381575 -0.764508  \n",
              "81  -0.719812  1.300804  \n",
              "119  1.381575 -0.764508  \n",
              "115  1.381575 -0.764508  \n",
              "\n",
              "[181 rows x 10 columns]"
            ]
          },
          "execution_count": 114,
          "metadata": {},
          "output_type": "execute_result"
        }
      ],
      "source": [
        "from sklearn.model_selection import train_test_split\n",
        "\n",
        "my_seed = 42\n",
        "\n",
        "# Selecting target value and dropping unwanted columns\n",
        "\n",
        "y = df[\"serum_creatinine\"] \n",
        "X = df[df.columns.drop([\"DEATH_EVENT\"])]\n",
        "\n",
        "# Splitting data into train, test and validation sets\n",
        "X_train, X_test = train_test_split(X,test_size = 0.3, random_state = my_seed)\n",
        "X_test, X_valid = train_test_split(X_test, test_size = 0.3, random_state = my_seed)\n",
        "\n",
        "\n",
        "# Normalizing the dataset (Z-normalization)\n",
        "mean = X_train.mean()\n",
        "stddev = X_train.std()\n",
        "\n",
        "X_train=(X_train-mean)/(stddev)\n",
        "y_train= X_train[\"serum_creatinine\"]\n",
        "X_train = X_train[X_train.columns.drop([\"serum_creatinine\"])]\n",
        "\n",
        "X_test=(X_test-mean)/(stddev)\n",
        "y_test= X_test[\"serum_creatinine\"]\n",
        "X_test = X_test[X_test.columns.drop([\"serum_creatinine\"])]\n",
        "\n",
        "X_valid=(X_valid-mean)/(stddev)\n",
        "y_valid= X_valid[\"serum_creatinine\"]\n",
        "X_valid = X_valid[X_valid.columns.drop([\"serum_creatinine\"])]\n",
        "\n",
        "X_train"
      ]
    },
    {
      "cell_type": "markdown",
      "metadata": {
        "id": "LvrGLGqVXv8q"
      },
      "source": [
        "### Activities"
      ]
    },
    {
      "cell_type": "markdown",
      "metadata": {
        "id": "os7TMYsiYaDv"
      },
      "source": [
        "1. (0.5 points) Verify if there is any feature that has low correlation with the target variables. You can use the function [mutual_info_regression](https://scikit-learn.org/stable/modules/generated/sklearn.feature_selection.mutual_info_regression.html) to check the importance of each feature. \n",
        "\n",
        "> *   Do we need all the features to predict the target value?\n",
        "> *   What happens if we drop the low correlation features?"
      ]
    },
    {
      "cell_type": "code",
      "execution_count": 115,
      "metadata": {
        "id": "BMyo_8gvEpuK"
      },
      "outputs": [
        {
          "data": {
            "text/html": [
              "<div>\n",
              "<style scoped>\n",
              "    .dataframe tbody tr th:only-of-type {\n",
              "        vertical-align: middle;\n",
              "    }\n",
              "\n",
              "    .dataframe tbody tr th {\n",
              "        vertical-align: top;\n",
              "    }\n",
              "\n",
              "    .dataframe thead th {\n",
              "        text-align: right;\n",
              "    }\n",
              "</style>\n",
              "<table border=\"1\" class=\"dataframe\">\n",
              "  <thead>\n",
              "    <tr style=\"text-align: right;\">\n",
              "      <th></th>\n",
              "      <th>age</th>\n",
              "      <th>ejection_fraction</th>\n",
              "      <th>platelets</th>\n",
              "      <th>serum_sodium</th>\n",
              "      <th>sex</th>\n",
              "      <th>smoking</th>\n",
              "    </tr>\n",
              "  </thead>\n",
              "  <tbody>\n",
              "    <tr>\n",
              "      <th>184</th>\n",
              "      <td>-0.275623</td>\n",
              "      <td>-1.097586</td>\n",
              "      <td>-0.420499</td>\n",
              "      <td>0.103996</td>\n",
              "      <td>-0.719812</td>\n",
              "      <td>1.300804</td>\n",
              "    </tr>\n",
              "    <tr>\n",
              "      <th>179</th>\n",
              "      <td>-0.526036</td>\n",
              "      <td>0.179716</td>\n",
              "      <td>0.292708</td>\n",
              "      <td>0.922398</td>\n",
              "      <td>-0.719812</td>\n",
              "      <td>1.300804</td>\n",
              "    </tr>\n",
              "    <tr>\n",
              "      <th>213</th>\n",
              "      <td>-1.110333</td>\n",
              "      <td>-0.671818</td>\n",
              "      <td>-0.123330</td>\n",
              "      <td>-1.805610</td>\n",
              "      <td>1.381575</td>\n",
              "      <td>-0.764508</td>\n",
              "    </tr>\n",
              "    <tr>\n",
              "      <th>108</th>\n",
              "      <td>0.141731</td>\n",
              "      <td>0.009409</td>\n",
              "      <td>0.589878</td>\n",
              "      <td>-0.987207</td>\n",
              "      <td>-0.719812</td>\n",
              "      <td>1.300804</td>\n",
              "    </tr>\n",
              "    <tr>\n",
              "      <th>282</th>\n",
              "      <td>-1.611159</td>\n",
              "      <td>-0.671818</td>\n",
              "      <td>-0.468047</td>\n",
              "      <td>-2.351211</td>\n",
              "      <td>-0.719812</td>\n",
              "      <td>1.300804</td>\n",
              "    </tr>\n",
              "    <tr>\n",
              "      <th>...</th>\n",
              "      <td>...</td>\n",
              "      <td>...</td>\n",
              "      <td>...</td>\n",
              "      <td>...</td>\n",
              "      <td>...</td>\n",
              "      <td>...</td>\n",
              "    </tr>\n",
              "    <tr>\n",
              "      <th>25</th>\n",
              "      <td>1.560738</td>\n",
              "      <td>0.009409</td>\n",
              "      <td>-1.252575</td>\n",
              "      <td>2.013601</td>\n",
              "      <td>-0.719812</td>\n",
              "      <td>1.300804</td>\n",
              "    </tr>\n",
              "    <tr>\n",
              "      <th>206</th>\n",
              "      <td>-1.778101</td>\n",
              "      <td>0.179716</td>\n",
              "      <td>-0.337292</td>\n",
              "      <td>1.195199</td>\n",
              "      <td>1.381575</td>\n",
              "      <td>-0.764508</td>\n",
              "    </tr>\n",
              "    <tr>\n",
              "      <th>81</th>\n",
              "      <td>0.475615</td>\n",
              "      <td>1.031251</td>\n",
              "      <td>0.106775</td>\n",
              "      <td>0.103996</td>\n",
              "      <td>-0.719812</td>\n",
              "      <td>1.300804</td>\n",
              "    </tr>\n",
              "    <tr>\n",
              "      <th>119</th>\n",
              "      <td>2.061563</td>\n",
              "      <td>0.009409</td>\n",
              "      <td>0.106775</td>\n",
              "      <td>-0.714406</td>\n",
              "      <td>1.381575</td>\n",
              "      <td>-0.764508</td>\n",
              "    </tr>\n",
              "    <tr>\n",
              "      <th>115</th>\n",
              "      <td>-0.275623</td>\n",
              "      <td>0.179716</td>\n",
              "      <td>-1.074273</td>\n",
              "      <td>0.649597</td>\n",
              "      <td>1.381575</td>\n",
              "      <td>-0.764508</td>\n",
              "    </tr>\n",
              "  </tbody>\n",
              "</table>\n",
              "<p>181 rows × 6 columns</p>\n",
              "</div>"
            ],
            "text/plain": [
              "          age  ejection_fraction  platelets  serum_sodium       sex   smoking\n",
              "184 -0.275623          -1.097586  -0.420499      0.103996 -0.719812  1.300804\n",
              "179 -0.526036           0.179716   0.292708      0.922398 -0.719812  1.300804\n",
              "213 -1.110333          -0.671818  -0.123330     -1.805610  1.381575 -0.764508\n",
              "108  0.141731           0.009409   0.589878     -0.987207 -0.719812  1.300804\n",
              "282 -1.611159          -0.671818  -0.468047     -2.351211 -0.719812  1.300804\n",
              "..        ...                ...        ...           ...       ...       ...\n",
              "25   1.560738           0.009409  -1.252575      2.013601 -0.719812  1.300804\n",
              "206 -1.778101           0.179716  -0.337292      1.195199  1.381575 -0.764508\n",
              "81   0.475615           1.031251   0.106775      0.103996 -0.719812  1.300804\n",
              "119  2.061563           0.009409   0.106775     -0.714406  1.381575 -0.764508\n",
              "115 -0.275623           0.179716  -1.074273      0.649597  1.381575 -0.764508\n",
              "\n",
              "[181 rows x 6 columns]"
            ]
          },
          "execution_count": 115,
          "metadata": {},
          "output_type": "execute_result"
        }
      ],
      "source": [
        "from sklearn.feature_selection import mutual_info_regression\n",
        "\n",
        "# Feature selection.\n",
        "correlation = mutual_info_regression(X_train, y_train, random_state= my_seed)\n",
        "idx = np.array([]).astype(int)\n",
        "for i in range(len(correlation)):\n",
        "    if correlation[i] <= 0.02:\n",
        "        idx = np.append(idx, i)\n",
        "\n",
        "# Columns with low correlation are dropped\n",
        "X_train = X_train.drop(X_train.columns[idx], axis = 1)\n",
        "X_test = X_test.drop(X_test.columns[idx], axis = 1)\n",
        "X_valid = X_valid.drop(X_valid.columns[idx], axis = 1)\n",
        "X_train\n"
      ]
    },
    {
      "cell_type": "markdown",
      "metadata": {
        "id": "DX3PMBcOazAy"
      },
      "source": [
        "> What are the conclusions? (1-2 paragraphs)"
      ]
    },
    {
      "attachments": {},
      "cell_type": "markdown",
      "metadata": {},
      "source": [
        "Analisando a correlação entre o valor alvo e as features, constata-se que há algumas features cujo valor aparentam não influenciar, ou têm uma influência muito baixa no valor objetivo. Com isso, é razoável eliminar essas features de baixa correlação para que elas não sejam levadas em consideração no treinamento do modelo. \n",
        "\n",
        "Esse procedimento de feature selection pode ser benéfico, pois, dessa forma, serão ponderadas apenas as features de maior impacto na predição do valor alvo, o que, a princípio deve levar a um resultado mais preciso e coerente. Além disso, o próprio processo de treinamento se torna mais eficiente, uma vez que há uma diminuição no volume de dados a ser analisado."
      ]
    },
    {
      "cell_type": "markdown",
      "metadata": {
        "id": "jVGywzmSZxr7"
      },
      "source": [
        "2. (2.0 points) Perform Linear Regression. You should implement your solution and compare it with ```sklearn.linear_model.SGDRegressor``` (linear model fitted by minimizing a regularized empirical loss with SGD, http://scikit-learn.org)."
      ]
    },
    {
      "cell_type": "code",
      "execution_count": 116,
      "metadata": {
        "id": "Oq4uQfV9G25g"
      },
      "outputs": [],
      "source": [
        "def MSE(Y,H):\n",
        "  e = (Y - H) ** 2\n",
        "  e = np.sum(e)\n",
        "  return e / Y.size"
      ]
    },
    {
      "cell_type": "code",
      "execution_count": 117,
      "metadata": {
        "id": "qK67IAeJGVRm"
      },
      "outputs": [
        {
          "name": "stdout",
          "output_type": "stream",
          "text": [
            "On training set: MSE = 0.801\n",
            "On test set: MSE = 1.045\n",
            "(w0 = 0.000,\n",
            " w1 = 0.212,\n",
            " w2 = -0.162,\n",
            " w3 = -0.027,\n",
            " w4 = -0.291,\n",
            " w5 = -0.030,\n",
            " w6 = 0.010)\n"
          ]
        }
      ],
      "source": [
        "class LinearRegression():\n",
        "  def __init__(self, learning_rate=0.01, max_iter=1000):\n",
        "    self.max_iter         = max_iter\n",
        "    self.learning_rate    = learning_rate\n",
        "    self.weights          = None\n",
        "    self.bias             = None\n",
        "    self.tolerance        = 1e-5\n",
        "    self.cost             = None\n",
        "\n",
        "  def predict(self, X):\n",
        "    pred = np.array([])\n",
        "    for x in X.to_numpy():\n",
        "      pred = np.append(pred, self.bias + np.sum((self.weights * x)))\n",
        "    return pred\n",
        "\n",
        "  def fit(self, X, y):\n",
        "    # Initialize vector to save the costs\n",
        "    costs = np.array([]) \n",
        "    # Initializes weights, bias and current cost\n",
        "    if self.weights == None:\n",
        "      self.weights = np.array([0.0 for _ in range(X.shape[1])]).astype(np.float64)\n",
        "    if self.bias == None:\n",
        "      self.bias = 0.0\n",
        "    if self.cost == None:\n",
        "      self.cost = MSE(y, self.predict(X))\n",
        "    prediction = self.predict(X)\n",
        "      \n",
        "    # Loop for updating weights and bias\n",
        "    for _ in range(self.max_iter):\n",
        "      self.bias = self.bias - (self.learning_rate * (1/y.size) * np.sum(prediction - y))\n",
        "      for i in range(len(self.weights)):\n",
        "        self.weights[i] = self.weights[i] - (self.learning_rate * (1/y.size) * np.sum((prediction - y) * (X.to_numpy())[:,i]))\n",
        "\n",
        "      prediction = self.predict(X)\n",
        "\n",
        "      # If the difference between current error and previous error is lower \n",
        "      # than the tolerance then the algorithm can stop\n",
        "      if abs(MSE(y, prediction) - self.cost) < self.tolerance:\n",
        "        break\n",
        "      # If MSE starts to increase, it has already surpassed its lowest point\n",
        "      if MSE(y, prediction) > self.cost:\n",
        "        break\n",
        "      else:\n",
        "        self.cost = MSE(y, prediction)\n",
        "        costs = np.append(costs, self.cost)\n",
        "    return self.weights, costs\n",
        "  \n",
        "# Create linear regression object\n",
        "\n",
        "model = LinearRegression(learning_rate=0.02, max_iter=1000)\n",
        "\n",
        "# Train the model using the training set\n",
        "\n",
        "costs = model.fit(X_train, y_train)[1]\n",
        "\n",
        "# Resulting MSE\n",
        "print(f\"On training set: MSE = {round(MSE(y_train, model.predict(X_train)), 3)}\")\n",
        "\n",
        "print(f\"On test set: MSE = {round(MSE(y_test, model.predict(X_test)), 3)}\")\n",
        "\n",
        "# The obtained weights during training\n",
        "print(\"(w0 = %2.3f\" % model.bias, end = \"\")\n",
        "for i in range(X_train.shape[1]):\n",
        "    print(\",\\n w%d = %2.3f\" % (i+1, model.weights[i]), end = \"\")\n",
        "print(\")\")"
      ]
    },
    {
      "cell_type": "code",
      "execution_count": 118,
      "metadata": {
        "id": "AzPTyI1EG9hY"
      },
      "outputs": [
        {
          "name": "stdout",
          "output_type": "stream",
          "text": [
            "On training set: MSE = 0.801\n",
            "On test set: MSE = 1.046\n",
            "(w0 = 0.002,\n",
            " w1 = 0.215,\n",
            " w2 = -0.163,\n",
            " w3 = -0.025,\n",
            " w4 = -0.292,\n",
            " w5 = -0.028,\n",
            " w6 = 0.011)\n"
          ]
        }
      ],
      "source": [
        "from sklearn.linear_model import SGDRegressor\n",
        "\n",
        "scikit_model = SGDRegressor(random_state=42)\n",
        "scikit_model.fit(X_train, y_train)\n",
        "y_pred_train = scikit_model.predict(X_train)\n",
        "y_pred_test = scikit_model.predict(X_test)\n",
        "\n",
        "print(f\"On training set: MSE = {round(MSE(y_train, y_pred_train),3)}\")\n",
        "print(f\"On test set: MSE = {round(MSE(y_test, y_pred_test),3)}\")\n",
        "\n",
        "print(\"(w0 = %2.3f\" % scikit_model.intercept_, end = \"\")\n",
        "for i in range(X_train.shape[1]):\n",
        "    print(\",\\n w%d = %2.3f\" % (i+1, scikit_model.coef_[i]), end = \"\")\n",
        "print(\")\")\n"
      ]
    },
    {
      "cell_type": "markdown",
      "metadata": {
        "id": "DXTk6P4MbbnH"
      },
      "source": [
        "> What are the conclusions? (1-2 paragraphs)"
      ]
    },
    {
      "attachments": {},
      "cell_type": "markdown",
      "metadata": {},
      "source": [
        "O procedimento adotado na implementação da Regressão Linear consistiu na atualização dos pesos pela fórmula da derivada parcial em relação a cada peso (conforme o modelo apresentado em aula do algoritmo padrão do Gradiente Descendente). Isso fez com que o treinamento se tornasse mais lento, especialmente quando comparado com a velocidade do Stochastic Gradient Descent do scikit-learn. Por outro lado, o modelo implementado apresenta a vantagem de sempre apresentar os mesmos resultados com consistência, uma vez que não depende de fatores aleatórios, como é o caso do Stochastic Gradient Descent.\n",
        "\n",
        "Em relação aos resultados, temos que o erro (MSE) de ambas soluções foram muito semelhantes. Os pesos (```w0``` a ```w6```) obtidos também estão relativamente próximos um do outro, o que indica uma consistência entre as duas soluções, além de fornecer uma certa validação para o modelo implementado manualmente. Além disso, os valores de MSE para o treinamento e teste estão relativamente próximos, o que indica uma coerência do modelo treinado."
      ]
    },
    {
      "cell_type": "markdown",
      "metadata": {
        "id": "Dx-ZsOBzg70n"
      },
      "source": [
        "3. (0.5 points) Plot the cost function vs. number of epochs in the training/validation set and analyze the model. "
      ]
    },
    {
      "cell_type": "code",
      "execution_count": 119,
      "metadata": {
        "id": "oQrJx9YshBqX"
      },
      "outputs": [
        {
          "data": {
            "image/png": "[encoded data removed]",
            "text/plain": [
              "<Figure size 640x480 with 1 Axes>"
            ]
          },
          "metadata": {},
          "output_type": "display_data"
        }
      ],
      "source": [
        "iterations = np.array([x+1 for x in range(costs.size)])\n",
        "plt.scatter(iterations, costs, color = \"blue\")\n",
        "plt.ylabel(\"Cost function (MSE)\")\n",
        "plt.xlabel(\"Number of iterations\")\n",
        "plt.xticks()\n",
        "plt.yticks()\n",
        "plt.show()\n"
      ]
    },
    {
      "cell_type": "markdown",
      "metadata": {
        "id": "Vb1CVeLxhEyF"
      },
      "source": [
        "> What are the conclusions? (1-2 paragraphs)"
      ]
    },
    {
      "attachments": {},
      "cell_type": "markdown",
      "metadata": {},
      "source": [
        "Nas primeiras iterações, observa-se que a queda no MSE entre uma iteração e a seguinte é mais significativa. Conforme se aumenta o número de iterações, as variações do MSE se tornam mais sutis, até o ponto em que há praticamente uma estabilização de seus valores. A estabilização do MSE indica que a Regressão Linear não obterá resultados muito melhores para os pesos, mesmo que continue executando por um maior período de tempo e, portanto, a solução obtida será uma das mais próximas possível da solução ótima, sem um grande aumento do custo computacional.\n",
        "\n",
        "De maneira geral, o comportamento da função custo (MSE) em função do número de iterações do algoritmo apresenta uma forma parecida com a de uma exponencial fracionária (como $e^{1/x}$). Isso parece indicar um funcionamento adequado do modelo, o qual tende a convergir para um menor valor de MSE conforme avançam as iterações."
      ]
    },
    {
      "cell_type": "markdown",
      "metadata": {
        "id": "XGvnz52Aa-7B"
      },
      "source": [
        "4. (0.75 points) Use different learning rates when optimizing the model. You can use the model that you implemented or the model from scikit-learn.\n",
        "\n",
        "> If you prefer to use the SGDRegressor from scikit-learn, use the parameter ```learning_rate='constant'``` and change the ```eta0```."
      ]
    },
    {
      "cell_type": "code",
      "execution_count": 120,
      "metadata": {
        "id": "dBaZ-WKPHCp1"
      },
      "outputs": [
        {
          "name": "stdout",
          "output_type": "stream",
          "text": [
            "Using scikit-learn SGDRegressor model\n",
            "Learning rate: 0.01\t\tMSE = 1.6813\n",
            "Learning rate: 0.02\t\tMSE = 1.6846\n",
            "Learning rate: 0.05\t\tMSE = 1.4942\n",
            "Learning rate: 0.1\t\tMSE = 1.5745\n",
            "Learning rate: 0.2\t\tMSE = 1.8417\n",
            "Learning rate: 0.5\t\tMSE = 6.042785257253157e+24\n",
            "Learning rate: 1.0\t\tMSE = 1.589562861859573e+25\n",
            "Learning rate: 2.0\t\tMSE = 3.6879694464160613e+25\n",
            "Learning rate: 5.0\t\tMSE = 6.624569196352351e+26\n",
            "Learning rate: 10.0\t\tMSE = 3.3363838150051264e+27\n"
          ]
        }
      ],
      "source": [
        "# Different learning rates. Using scikit-learn libraries.\n",
        "learning_rates = np.array([0.01, 0.02, 0.05, 0.1, 0.2, 0.5, 1, 2, 5, 10])\n",
        "errors = np.array([])\n",
        "\n",
        "for rate in learning_rates:\n",
        "    scikit_model = SGDRegressor(learning_rate='constant', eta0=rate, random_state=42)\n",
        "    scikit_model.fit(X_train, y_train)\n",
        "    y_pred = scikit_model.predict(X_valid)\n",
        "    errors = np.append(errors, MSE(y_valid, y_pred))\n",
        "\n",
        "print(\"Using scikit-learn SGDRegressor model\")\n",
        "for i in range(len(learning_rates)):\n",
        "    print(f\"Learning rate: {learning_rates[i]}\\t\\tMSE = {round(errors[i], 4)}\")"
      ]
    },
    {
      "cell_type": "code",
      "execution_count": 121,
      "metadata": {},
      "outputs": [
        {
          "name": "stdout",
          "output_type": "stream",
          "text": [
            "Using self implemented Linear Regression\n",
            "Learning rate: 0.01\t\tMSE = 1.6561\n",
            "Learning rate: 0.02\t\tMSE = 1.6583\n",
            "Learning rate: 0.05\t\tMSE = 1.6606\n",
            "Learning rate: 0.1\t\tMSE = 1.6619\n",
            "Learning rate: 0.2\t\tMSE = 1.6632\n",
            "Learning rate: 0.5\t\tMSE = 1.6651\n",
            "Learning rate: 1.0\t\tMSE = 1.6658\n",
            "Learning rate: 2.0\t\tMSE = 2.4494\n",
            "Learning rate: 5.0\t\tMSE = 7.4235\n",
            "Learning rate: 10.0\t\tMSE = 25.6144\n"
          ]
        }
      ],
      "source": [
        "# Different learning rates. Using model implemented by us.\n",
        "errors = np.array([])\n",
        "\n",
        "for rate in learning_rates:\n",
        "    model = LinearRegression(learning_rate=rate, max_iter=1000)\n",
        "    model.fit(X_train, y_train)\n",
        "    y_pred = model.predict(X_valid)\n",
        "    errors = np.append(errors, MSE(y_valid, y_pred))\n",
        "\n",
        "print(\"Using self implemented Linear Regression\")\n",
        "for i in range(len(learning_rates)):\n",
        "    print(f\"Learning rate: {learning_rates[i]}\\t\\tMSE = {round(errors[i], 4)}\")"
      ]
    },
    {
      "cell_type": "markdown",
      "metadata": {
        "id": "mwZIA0Tucpe0"
      },
      "source": [
        "> What are the conclusions? (1-2 paragraphs)"
      ]
    },
    {
      "attachments": {},
      "cell_type": "markdown",
      "metadata": {},
      "source": [
        "Para taxas de aprendizado mais baixas, entre 0.01 e 0.5, há uma certa consistência nos erros obtidos, os quais se mantêm próximos a 0.08. Esses resultados indicam um bom funcionamento dos modelos para essas menores taxas de aprendizados. Porém, conforme se aumenta a taxa de aprendizado para valores acima de 0.5, observa-se um aumento no MSE resultante, especialmente utilizando o ```SGDRegressor``` do scikit-learn, enquanto para o modelo implementado manualmente, um aumento mais significativo no MSE é observado para taxas de aprendizado a partir de 5.\n",
        "\n",
        "Assim, com essas maiores taxas, é notável que os modelos deixam de funcionar de maneira desejável, passando a apresentar erros consideravelmente grandes. Esse fato muito possivelmente é resultado de overshooting. De maneira geral, esse procedimento de validação permite com que haja um ajuste dos hiperparâmetros, mais especificamente da taxa de aprendizado, para que o treinamento do modelo apresente um melhor desempenho."
      ]
    },
    {
      "cell_type": "markdown",
      "metadata": {
        "id": "QSeBs0gycPpW"
      },
      "source": [
        "5. (0.5 points) Sometimes, we need some more complex function to make good prediction. Evaluate a [Polynomial Linear Regression](https://scikit-learn.org/stable/modules/generated/sklearn.preprocessing.PolynomialFeatures.html) model. "
      ]
    },
    {
      "cell_type": "code",
      "execution_count": 122,
      "metadata": {
        "id": "7qS_AG9fcM0O"
      },
      "outputs": [
        {
          "name": "stdout",
          "output_type": "stream",
          "text": [
            "Best results with degree 2 (MSE = 1.4537589763547782)\n"
          ]
        }
      ],
      "source": [
        "from sklearn.preprocessing import PolynomialFeatures\n",
        "\n",
        "degrees = np.array([x+1 for x in range(15)])\n",
        "\n",
        "best_deg = degrees[0]\n",
        "best_mse = None\n",
        "\n",
        "for deg in degrees:\n",
        "    pol_features = PolynomialFeatures(degree=deg)\n",
        "    X_train_pol = pol_features.fit_transform(X_train)\n",
        "\n",
        "    model = SGDRegressor(random_state=42)\n",
        "    model.fit(X_train_pol, y_train)\n",
        "\n",
        "    X_valid_pol = pol_features.fit_transform(X_valid)\n",
        "\n",
        "    y_pred_pol = model.predict(X_valid_pol)\n",
        "    \n",
        "    current_mse = MSE(y_valid, y_pred_pol)\n",
        "\n",
        "    if (best_mse is None or current_mse < best_mse):\n",
        "        best_mse = current_mse\n",
        "        best_deg = deg\n",
        "\n",
        "print(f\"Best results with degree {best_deg} (MSE = {best_mse})\")\n"
      ]
    },
    {
      "cell_type": "markdown",
      "metadata": {
        "id": "PSJSICf7cqaH"
      },
      "source": [
        "> What are the conclusions? (1-2 paragraphs)"
      ]
    },
    {
      "attachments": {},
      "cell_type": "markdown",
      "metadata": {},
      "source": [
        "Foram realizadas regressões lineares ajustando os dados a polinômios de graus 1 a 15, buscando o que fornecesse o menor erro (MSE) no conjunto de validação. Esse procedimento é realizado com a intenção de encontrar o modelo que melhor se ajusta aos dados reais e não somente aos dados do conjunto de treinamento. Ao utilizar o conjunto de validação para selecionar o grau do polinômio que melhor se adequa aos dados, busca-se evitar a ocorrência de overfitting, ou seja, a escolha de um polinômio que se ajusta muito bem ao conjunto de treinamento, mas não ao conjunto total de dados.\n",
        "\n",
        "Com isso, o polinômio de grau 4 foi o que apresentou o menor MSE dentre os polinômios testados e, portanto, corresponde ao melhor resultado obtido."
      ]
    },
    {
      "cell_type": "markdown",
      "metadata": {
        "id": "ZCpz412ac6X7"
      },
      "source": [
        "6. (0.5 points) Pick **your best model**, based on your validation set, and predict the target values for the test set."
      ]
    },
    {
      "cell_type": "code",
      "execution_count": 123,
      "metadata": {
        "id": "qRUE-ElIc5pl"
      },
      "outputs": [
        {
          "data": {
            "image/png": "[encoded data removed]",
            "text/plain": [
              "<Figure size 640x480 with 1 Axes>"
            ]
          },
          "metadata": {},
          "output_type": "display_data"
        }
      ],
      "source": [
        "# The plot shows the true label (red) and the predict label (blue)\n",
        "# for each data entry in the test set\n",
        "\n",
        "pol_features = PolynomialFeatures(degree=best_deg)\n",
        "X_train_pol = pol_features.fit_transform(X_train)\n",
        "\n",
        "model = SGDRegressor(random_state=42)\n",
        "model.fit(X_train_pol, y_train)\n",
        "\n",
        "X_test_pol = pol_features.fit_transform(X_test)\n",
        "\n",
        "y_pred = model.predict(X_test_pol)\n",
        "\n",
        "num = np.array([x+1 for x in range(y_pred.size)])\n",
        "plt.scatter(num, y_pred, color = \"blue\", label=\"Predicted value\")\n",
        "plt.scatter(num, y_test, color = \"red\", label=\"True Label\")\n",
        "plt.ylabel(\"Target Value\")\n",
        "plt.xlabel(\"Data Entry\")\n",
        "plt.xticks(())\n",
        "plt.yticks(())\n",
        "plt.legend()\n",
        "plt.show()"
      ]
    },
    {
      "cell_type": "markdown",
      "metadata": {
        "id": "q1wu27uZdigS"
      },
      "source": [
        "## Logistic Regression"
      ]
    },
    {
      "cell_type": "markdown",
      "metadata": {
        "id": "rbmfqspmdosV"
      },
      "source": [
        "This part of the assigment aims to predict the patients survival based on their medical records. \n",
        "\n",
        "*   Do we need to split the data into train, valid and test? How?\n",
        "*   Do we need to normalize the data? How? The normalization is equal to train, valid and test split?\n",
        "* **Target value: DEATH EVENT**."
      ]
    },
    {
      "cell_type": "markdown",
      "metadata": {
        "id": "kQjs5xhmgDV-"
      },
      "source": [
        "1. (0.5 points) Verify if there is any feature that has low correlation with the target variables. You can use the function [mutual_info_classification](https://scikit-learn.org/stable/modules/generated/sklearn.feature_selection.mutual_info_classif.html) to check the importance of each feature."
      ]
    },
    {
      "cell_type": "code",
      "execution_count": 124,
      "metadata": {
        "id": "AXwPiduYdmla"
      },
      "outputs": [],
      "source": [
        "from sklearn.feature_selection import mutual_info_classif\n",
        "from sklearn.preprocessing import StandardScaler\n",
        "from sklearn.model_selection import train_test_split\n",
        "\n",
        "# Splitting data into train and test sets\n",
        "X_train, X_test = train_test_split(df, test_size = 0.4, random_state = my_seed)\n",
        "X_test, X_valid = train_test_split(X_test, test_size = 0.5, random_state = my_seed)\n",
        "\n",
        "y_train= X_train[\"DEATH_EVENT\"]\n",
        "X_train = X_train[X_train.columns.drop([\"DEATH_EVENT\"])]\n",
        "\n",
        "y_test= X_test[\"DEATH_EVENT\"]\n",
        "X_test = X_test[X_test.columns.drop([\"DEATH_EVENT\"])]\n",
        "\n",
        "y_valid= X_valid[\"DEATH_EVENT\"]\n",
        "X_valid = X_valid[X_valid.columns.drop([\"DEATH_EVENT\"])]\n",
        "\n",
        "# Feature selection.\n",
        "correlation = mutual_info_classif(X_train, y_train, random_state= my_seed)\n",
        "idx = np.array([]).astype(int)\n",
        "for i in range(len(correlation)):\n",
        "    if correlation[i] <= 0.02:\n",
        "        idx = np.append(idx, i)\n",
        "\n",
        "# Columns with low correlation are dropped\n",
        "X_train = X_train.drop(X_train.columns[idx], axis = 1)\n",
        "X_test = X_test.drop(X_test.columns[idx], axis = 1)\n",
        "X_valid = X_valid.drop(X_valid.columns[idx], axis = 1)\n",
        "\n",
        "# Normalizing the dataset\n",
        "scaler = StandardScaler()\n",
        "\n",
        "scaler.fit(X_train)\n",
        "X_train = scaler.transform(X_train)\n",
        "X_test = scaler.transform(X_test)\n",
        "X_valid = scaler.transform(X_valid)"
      ]
    },
    {
      "cell_type": "markdown",
      "metadata": {
        "id": "dLLg2Np1jVTh"
      },
      "source": [
        "> What are the conclusions? (1-2 paragraphs)"
      ]
    },
    {
      "attachments": {},
      "cell_type": "markdown",
      "metadata": {},
      "source": [
        "Nessa etapa, houve a divisão do conjunto de dados apenas entre treinamento e teste. Já em relação à normalização dos dados, foi utilizada a classe StandardScaler, a qual foi aplicada individualmente em cada conjunto, para que o teste não fosse contaminado pelo treinamento.\n",
        "\n",
        "O procedimento de feature selection foi realizado com o auxílio da função ```mutual_info_classif``` do scikit learn. A partir dessa, obteve-se uma estimativa da correlação entre o valor alvo e cada uma das features. Assim, aquelas que apresentaram uma correlação menor que 0.02, segundo o resultado obtido pelo ```mutual_info_classif```, foram desconsideradas no treinamento do modelo."
      ]
    },
    {
      "cell_type": "markdown",
      "metadata": {
        "id": "7gvvAB4WgWbK"
      },
      "source": [
        "2. (2 points) Perform Multinomial Logistic Regression."
      ]
    },
    {
      "cell_type": "code",
      "execution_count": 125,
      "metadata": {
        "id": "C8DCclQ1ghBl"
      },
      "outputs": [
        {
          "name": "stdout",
          "output_type": "stream",
          "text": [
            "\n",
            "On training set:\n",
            "Cross entropy: 6.74\n",
            "Accuracy: 0.81\n",
            "\n",
            "On testing set:\n",
            "Cross entropy: 13.86\n",
            "Accuracy: 0.62\n"
          ]
        }
      ],
      "source": [
        "from sklearn import linear_model\n",
        "from sklearn.metrics import log_loss, accuracy_score\n",
        "import seaborn as sn    \n",
        "\n",
        "# Validation for selecting hyperparameters\n",
        "\n",
        "C_candidates = [0.1, 0.5, 1, 2, 5, 10, 20]\n",
        "\n",
        "best_C = None\n",
        "best_accuracy = 0\n",
        "\n",
        "for c in C_candidates:\n",
        "    model = linear_model.LogisticRegression(C=c, random_state=my_seed, multi_class='multinomial', solver='saga')\n",
        "    model.fit(X_train, y_train)\n",
        "    y_pred_valid = model.predict(X_valid)\n",
        "    if (accuracy_score(y_valid, y_pred_valid) >= best_accuracy):\n",
        "        best_C = c\n",
        "        best_accuracy = accuracy_score(y_valid, y_pred_valid)\n",
        "\n",
        "# Train the model using the training set and the hyperparameters determined during validation\n",
        "model = linear_model.LogisticRegression(C=best_C, random_state=my_seed, multi_class='multinomial', solver='saga')\n",
        "\n",
        "model.fit(X_train, y_train)\n",
        "\n",
        "print('\\nOn training set:')\n",
        "y_pred_train = model.predict(X_train)\n",
        "print(\"Cross entropy: %.2f\" % log_loss(y_train, y_pred_train))\n",
        "print(\"Accuracy: %.2f\" % accuracy_score(y_train, y_pred_train))\n",
        "print('\\nOn testing set:')\n",
        "y_pred_test = model.predict(X_test)\n",
        "print(\"Cross entropy: %.2f\" % log_loss(y_test, y_pred_test))\n",
        "print(\"Accuracy: %.2f\" % accuracy_score(y_test, y_pred_test))\n"
      ]
    },
    {
      "cell_type": "markdown",
      "metadata": {
        "id": "6xdkr3A1jTzC"
      },
      "source": [
        "> What are the conclusions? (1-2 paragraphs)\n"
      ]
    },
    {
      "attachments": {},
      "cell_type": "markdown",
      "metadata": {},
      "source": [
        "Para realizar a Regressão Logística Multinomial, o modelo foi treinado passando os parâmetros ```multi_class='multinomial'``` e ```solver='saga'``` para o LogisticRegression do sklearn. Além disso, foi realizado o procedimento de validação para determinar a melhor constante de regularização ```C``` a ser utilizada no modelo treinado.\n",
        "\n",
        "Os resultados obtidos apresentaram uma acurácia de 81% para o conjunto de treinamento e 62% para o conjunto de teste. Assim, os valores de acurácia resultante indicam um desempenho razoável do modelo treinado, sendo que há a previsão correta para quase mais da metade dos casos."
      ]
    },
    {
      "cell_type": "markdown",
      "metadata": {
        "id": "TJ_34cx1hd6J"
      },
      "source": [
        "3. (1.5 points) Another factor that can alter the model result it's if the dataset is balanced:\n",
        "\n",
        "*   The dataset is balanced ?\n",
        "*   In this case, which technique is better: *oversampling* or *undersampling*?\n",
        "\n",
        "Obs: You can use [RandomOverSampling](https://imbalanced-learn.org/stable/references/generated/imblearn.over_sampling.RandomOverSampler.html) and [RandomUnderSampling](https://imbalanced-learn.org/stable/references/generated/imblearn.under_sampling.RandomUnderSampler.html#imblearn.under_sampling.RandomUnderSampler). But you can try others techniques."
      ]
    },
    {
      "cell_type": "code",
      "execution_count": 126,
      "metadata": {
        "id": "CiFVP2Zrgyxc"
      },
      "outputs": [
        {
          "name": "stdout",
          "output_type": "stream",
          "text": [
            "\n",
            "On training set:\n",
            "Cross entropy: 6.74\n",
            "Accuracy: 0.81\n",
            "\n",
            "On testing set:\n",
            "Cross entropy: 13.17\n",
            "Accuracy: 0.63\n"
          ]
        }
      ],
      "source": [
        "# Oversampling\n",
        "from imblearn.over_sampling import RandomOverSampler\n",
        "\n",
        "ros = RandomOverSampler(random_state=my_seed)\n",
        "X_train_over, y_train_over = ros.fit_resample(X_train, y_train)\n",
        "model = linear_model.LogisticRegression(C = best_C, random_state=my_seed, multi_class='multinomial', solver='saga')\n",
        "# Train the model using the training set\n",
        "model.fit(X_train_over, y_train_over)\n",
        "\n",
        "print('\\nOn training set:')\n",
        "y_pred_over_train = model.predict(X_train_over)\n",
        "print(\"Cross entropy: %.2f\" % log_loss(y_train_over, y_pred_over_train))\n",
        "print(\"Accuracy: %.2f\" % accuracy_score(y_train_over, y_pred_over_train))\n",
        "print('\\nOn testing set:')\n",
        "y_pred_over_test = model.predict(X_test)\n",
        "print(\"Cross entropy: %.2f\" % log_loss(y_test, y_pred_over_test))\n",
        "print(\"Accuracy: %.2f\" % accuracy_score(y_test, y_pred_over_test))"
      ]
    },
    {
      "cell_type": "code",
      "execution_count": 127,
      "metadata": {
        "id": "TuCBPbc5jHbl"
      },
      "outputs": [
        {
          "name": "stdout",
          "output_type": "stream",
          "text": [
            "\n",
            "On training set:\n",
            "Cross entropy: 6.76\n",
            "Accuracy: 0.81\n",
            "\n",
            "On testing set:\n",
            "Cross entropy: 13.86\n",
            "Accuracy: 0.62\n"
          ]
        }
      ],
      "source": [
        "# Undersampling\n",
        "\n",
        "from imblearn.under_sampling import RandomUnderSampler\n",
        "\n",
        "rus = RandomUnderSampler(random_state=my_seed)\n",
        "X_train_under, y_train_under = rus.fit_resample(X_train, y_train)\n",
        "\n",
        "model = linear_model.LogisticRegression(C = best_C, random_state=my_seed, multi_class='multinomial', solver='saga')\n",
        "\n",
        "# Train the model using the training set\n",
        "model.fit(X_train_under, y_train_under)\n",
        "\n",
        "print('\\nOn training set:')\n",
        "y_pred_under_train = model.predict(X_train_under)\n",
        "print(\"Cross entropy: %.2f\" % log_loss(y_train_under, y_pred_under_train))\n",
        "print(\"Accuracy: %.2f\" % accuracy_score(y_train_under, y_pred_under_train))\n",
        "print('\\nOn testing set:')\n",
        "y_pred_under_test = model.predict(X_test)\n",
        "print(\"Cross entropy: %.2f\" % log_loss(y_test, y_pred_under_test))\n",
        "print(\"Accuracy: %.2f\" % accuracy_score(y_test, y_pred_under_test))"
      ]
    },
    {
      "cell_type": "markdown",
      "metadata": {
        "id": "h2wAUt_hjSzr"
      },
      "source": [
        "> What are the conclusions? (1-2 paragraphs)"
      ]
    },
    {
      "attachments": {},
      "cell_type": "markdown",
      "metadata": {},
      "source": [
        "O dataset utilizado não estava originalmente balanceado, o que pode afetar o treinamento do modelo. Em busca de evitar esse desbalanceamento, foram empregadas duas técnicas: _oversampling_ e _underampling_. Para o conjunto de treinamento, o _oversampling_ teve um resultado ligeiramente melhor, porém, ainda com um valor baixo de acurácia, de apenas 63%. Novamente, assim como no primeiro modelo treinado, o resultado teve um desempenho abaixo do esperado, sendo pouco preciso nas suas predições."
      ]
    },
    {
      "cell_type": "markdown",
      "metadata": {
        "id": "8pNHeah9jK7f"
      },
      "source": [
        "4. (0.5 points) Pick **your best model** and plot the confusion matrix in the **test set**. \n"
      ]
    },
    {
      "cell_type": "code",
      "execution_count": 128,
      "metadata": {
        "id": "bak1v-ikjImM"
      },
      "outputs": [
        {
          "data": {
            "image/png": "[encoded data removed]",
            "text/plain": [
              "<Figure size 640x480 with 2 Axes>"
            ]
          },
          "metadata": {},
          "output_type": "display_data"
        }
      ],
      "source": [
        "def plot_confusion_matrix(y, y_pred):\n",
        "    data = {'y': y_test, 'y_pred': y_pred}\n",
        "    df = pd.DataFrame(data, columns=['y','y_pred'])\n",
        "    cm = pd.crosstab(df['y'], df['y_pred'], rownames=['Actual'], colnames=['Predicted'])\n",
        "    sn.heatmap(cm, annot=True)\n",
        "\n",
        "plot_confusion_matrix(y_test,y_pred_over_test)"
      ]
    },
    {
      "cell_type": "markdown",
      "metadata": {
        "id": "38HbjwZSjRf1"
      },
      "source": [
        "> What are the conclusions? (1-2 paragraphs)"
      ]
    },
    {
      "attachments": {},
      "cell_type": "markdown",
      "metadata": {},
      "source": [
        "A matriz de confusão foi plotada com base no modelo com _oversampling_. \n",
        "\n",
        "A partir da análise dessa figura, vê-se que o modelo tem uma maior capacidade de acertar os resultados negativos do que os positivos. Enquanto para resultados positivos o modelo acertou em 11 das vezes e errou 9, para resultados negativos o modelo acertou em 22 das vezes errando também apenas em 10. Em geral, trazendo a acurácia do modelo para 63% para o conjunto de teste."
      ]
    },
    {
      "cell_type": "markdown",
      "metadata": {
        "id": "D2zOMBnKmK4-"
      },
      "source": [
        "## Deadline\n",
        "\n",
        "Wednesday, April 19, 11:59 pm. \n",
        "\n",
        "Penalty policy for late submission: You are not encouraged to submit your assignment after due date. However, in case you do, your grade will be penalized as follows:\n",
        "- April 20, 11:59 pm : grade * 0.75\n",
        "- April 21, 11:59 pm : grade * 0.5\n",
        "- April 22, 11:59 pm : grade * 0.25\n"
      ]
    },
    {
      "cell_type": "markdown",
      "metadata": {
        "id": "DK1R2Xfkmc6j"
      },
      "source": [
        "## Submission\n",
        "\n",
        "On Google Classroom, submit your Jupyter Notebook (in Portuguese or English).\n",
        "\n",
        "**This activity is NOT individual, it must be done in pairs (two-person group).**"
      ]
    }
  ],
  "metadata": {
    "colab": {
      "provenance": []
    },
    "kernelspec": {
      "display_name": "Python 3",
      "name": "python3"
    },
    "language_info": {
      "codemirror_mode": {
        "name": "ipython",
        "version": 3
      },
      "file_extension": ".py",
      "mimetype": "text/x-python",
      "name": "python",
      "nbconvert_exporter": "python",
      "pygments_lexer": "ipython3",
      "version": "3.11.3"
    }
  },
  "nbformat": 4,
  "nbformat_minor": 0
}
